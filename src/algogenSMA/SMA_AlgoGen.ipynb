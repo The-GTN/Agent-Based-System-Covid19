{
 "cells": [
  {
   "cell_type": "markdown",
   "metadata": {},
   "source": [
    "# Multi-Agents based Systems and Genetic Algorithms"
   ]
  },
  {
   "cell_type": "markdown",
   "metadata": {},
   "source": [
    "## Question\n",
    "\n",
    "Questions répondues :\n",
    "\n",
    "---\n",
    "\n",
    "      1 . pourquoi dans ton polynôme , les valeurs low et up ne sont pas les mêmes que pour att ?\n",
    "      A priori on mute dans le domaine de définition des attributs ? \n",
    "      donc ce que tu mets dans \"att\" et dans low/up devrait être la même chose ?\n",
    "      \n",
    "      réponse 1 . Correct ! J'avais mal appréhender la fonction de mutation !\n",
    "      \n",
    "---\n",
    "\n",
    "      2 . quand on fait tourner selBest, en résultat il affiche pour chaque\n",
    "      génération une colonne nevals. A quoi cela correspond ?\n",
    "          \n",
    "      \n",
    "      réponse 2 . nevals = nombre d'évaluations d'individu (permet de voir combien ont changé)\n",
    "      \n",
    "---\n",
    "\n",
    "      3 . - quand on fait du cross-over, que deviennent les parents ? est-ce que\n",
    "            c'est la même chose avec selBest et SelTournanent ?\n",
    "            \n",
    "      réponse 3 .\n",
    "    \n",
    "---\n",
    "\n",
    "Questions non-répondues :\n",
    "\n",
    "\n",
    "- différence entre initRepeat et initIterate (que tu mets dans ton\n",
    "voyageur de commerce) ?\n",
    "\n",
    "- est-ce que la fonction select est prise en compte dans selBest ?\n",
    "   (tu disais que non, mais tu avais aussi une erreur de code ... du\n",
    "coup quelle est la conclusion ?)\n",
    "\n",
    "- Si la réponse à la question précédente est \"non\" : quel algo conserve\n",
    "les meilleurs ?\n",
    "\n",
    "- Comment fonctionne selTournament ? je n'ai toujours pas compris\n",
    "\n"
   ]
  },
  {
   "cell_type": "markdown",
   "metadata": {},
   "source": [
    "## Réponse"
   ]
  },
  {
   "cell_type": "markdown",
   "metadata": {},
   "source": [
    "- Correct ! J'avais mal appréhender la fonction de mutation !\n",
    "\n",
    "- Différence minime :\n",
    "    * avec repeat : On va appeler n fois une fonction, à chaque fois le résultat est mis dans la structure de donnée qui est ici l'individu\n",
    "    * avec iterate : Appelle une fois une fonction qui retourne un itérable, puis tout ce qu'il y a dans l'itérable sera mis dans l'individu\n",
    "    \n",
    "- Fonction de fitness plutot ? Et c'est l'attribut Fitness qui est prit en compte (code en dessous)\n",
    "\n",
    "- A besoin de la réponse juste avant\n",
    "\n",
    "- nevals = nombre d'évaluations d'individu (permet de voir combien ont changé)\n",
    "\n",
    "- selTournament code source juste en bas\n",
    "\n",
    "- les parents changent pour devenir les enfants (code en dessous)  Il n'y a pas de lien entre le select et le crossover donc à priori le comportement sera le même avec selBest et selTournament\n",
    "\n",
    "\n",
    "- Lien utile : https://github.com/DEAP/deap/tree/master/deap"
   ]
  },
  {
   "cell_type": "code",
   "execution_count": null,
   "metadata": {},
   "outputs": [],
   "source": [
    "def selRandom(individuals, k):\n",
    "    \"\"\"Select *k* individuals at random from the input *individuals* with\n",
    "    replacement. The list returned contains references to the input\n",
    "    *individuals*.\n",
    "    :param individuals: A list of individuals to select from.\n",
    "    :param k: The number of individuals to select.\n",
    "    :returns: A list of selected individuals.\n",
    "    This function uses the :func:`~random.choice` function from the\n",
    "    python base :mod:`random` module.\n",
    "    \"\"\"\n",
    "    return [random.choice(individuals) for i in xrange(k)]\n",
    "\n",
    "def selTournament(individuals, k, tournsize, fit_attr=\"fitness\"):\n",
    "    \"\"\"Select the best individual among *tournsize* randomly chosen\n",
    "    individuals, *k* times. The list returned contains\n",
    "    references to the input *individuals*.\n",
    "    :param individuals: A list of individuals to select from.\n",
    "    :param k: The number of individuals to select.\n",
    "    :param tournsize: The number of individuals participating in each tournament.\n",
    "    :param fit_attr: The attribute of individuals to use as selection criterion\n",
    "    :returns: A list of selected individuals.\n",
    "    This function uses the :func:`~random.choice` function from the python base\n",
    "    :mod:`random` module.\n",
    "    \"\"\"\n",
    "    chosen = []\n",
    "    for i in xrange(k):\n",
    "        aspirants = selRandom(individuals, tournsize)\n",
    "        chosen.append(max(aspirants, key=attrgetter(fit_attr)))\n",
    "    return chosen"
   ]
  },
  {
   "cell_type": "code",
   "execution_count": null,
   "metadata": {},
   "outputs": [],
   "source": [
    "def selBest(individuals, k, fit_attr=\"fitness\"):\n",
    "    \"\"\"Select the *k* best individuals among the input *individuals*. The\n",
    "    list returned contains references to the input *individuals*.\n",
    "    :param individuals: A list of individuals to select from.\n",
    "    :param k: The number of individuals to select.\n",
    "    :param fit_attr: The attribute of individuals to use as selection criterion\n",
    "    :returns: A list containing the k best individuals.\n",
    "    \"\"\"\n",
    "    return sorted(individuals, key=attrgetter(fit_attr), reverse=True)[:k]"
   ]
  },
  {
   "cell_type": "code",
   "execution_count": null,
   "metadata": {},
   "outputs": [],
   "source": [
    "def cxOnePoint(ind1, ind2):\n",
    "    \"\"\"Executes a one point crossover on the input :term:`sequence` individuals.\n",
    "    The two individuals are modified in place. The resulting individuals will\n",
    "    respectively have the length of the other.\n",
    "    :param ind1: The first individual participating in the crossover.\n",
    "    :param ind2: The second individual participating in the crossover.\n",
    "    :returns: A tuple of two individuals.\n",
    "    This function uses the :func:`~random.randint` function from the\n",
    "    python base :mod:`random` module.\n",
    "    \"\"\"\n",
    "    size = min(len(ind1), len(ind2))\n",
    "    cxpoint = random.randint(1, size - 1)\n",
    "    ind1[cxpoint:], ind2[cxpoint:] = ind2[cxpoint:], ind1[cxpoint:]\n",
    "\n",
    "    return ind1, ind2"
   ]
  },
  {
   "cell_type": "code",
   "execution_count": null,
   "metadata": {},
   "outputs": [],
   "source": [
    "def mutShuffleIndexes(individual, indpb):\n",
    "    \"\"\"Shuffle the attributes of the input individual and return the mutant.\n",
    "    The *individual* is expected to be a :term:`sequence`. The *indpb* argument is the\n",
    "    probability of each attribute to be moved. Usually this mutation is applied on\n",
    "    vector of indices.\n",
    "    :param individual: Individual to be mutated.\n",
    "    :param indpb: Independent probability for each attribute to be exchanged to\n",
    "                  another position.\n",
    "    :returns: A tuple of one individual.\n",
    "    This function uses the :func:`~random.random` and :func:`~random.randint`\n",
    "    functions from the python base :mod:`random` module.\n",
    "    \"\"\"\n",
    "    size = len(individual)\n",
    "    for i in xrange(size):\n",
    "        if random.random() < indpb:\n",
    "            swap_indx = random.randint(0, size - 2)\n",
    "            if swap_indx >= i:\n",
    "                swap_indx += 1\n",
    "            individual[i], individual[swap_indx] = \\\n",
    "                individual[swap_indx], individual[i]\n",
    "\n",
    "    return individual,\n",
    "\n",
    "def mutUniformInt(individual, low, up, indpb):\n",
    "    \"\"\"Mutate an individual by replacing attributes, with probability *indpb*,\n",
    "    by a integer uniformly drawn between *low* and *up* inclusively.\n",
    "    :param individual: :term:`Sequence <sequence>` individual to be mutated.\n",
    "    :param low: The lower bound or a :term:`python:sequence` of\n",
    "                of lower bounds of the range from which to draw the new\n",
    "                integer.\n",
    "    :param up: The upper bound or a :term:`python:sequence` of\n",
    "               of upper bounds of the range from which to draw the new\n",
    "               integer.\n",
    "    :param indpb: Independent probability for each attribute to be mutated.\n",
    "    :returns: A tuple of one individual.\n",
    "    \"\"\"\n",
    "    size = len(individual)\n",
    "    if not isinstance(low, Sequence):\n",
    "        low = repeat(low, size)\n",
    "    elif len(low) < size:\n",
    "        raise IndexError(\"low must be at least the size of individual: %d < %d\" % (len(low), size))\n",
    "    if not isinstance(up, Sequence):\n",
    "        up = repeat(up, size)\n",
    "    elif len(up) < size:\n",
    "        raise IndexError(\"up must be at least the size of individual: %d < %d\" % (len(up), size))\n",
    "\n",
    "    for i, xl, xu in zip(xrange(size), low, up):\n",
    "        if random.random() < indpb:\n",
    "            individual[i] = random.randint(xl, xu)\n",
    "\n",
    "    return individual,"
   ]
  },
  {
   "cell_type": "markdown",
   "metadata": {},
   "source": [
    "## SMA simple avec Algo gen\n",
    "\n",
    "### SMA"
   ]
  },
  {
   "cell_type": "code",
   "execution_count": 5,
   "metadata": {},
   "outputs": [],
   "source": [
    "import numpy as np\n",
    "import networkx as nx\n",
    "import random\n",
    "import matplotlib.pyplot as plt\n",
    "\n",
    "def isPrime(n):\n",
    "    if n > 1:\n",
    "        for i in range(2, n):\n",
    "            if (n % i) == 0:\n",
    "                return False\n",
    "        return True\n",
    "    else:\n",
    "        return False\n",
    "\n",
    "class Agent:\n",
    "    \n",
    "    def __init__(self, sma, id_number, accointances, color): \n",
    "        self.id_number = id_number\n",
    "        self.accointances = accointances\n",
    "        self.sma = sma\n",
    "        self.color = color\n",
    "        self.ball = None\n",
    "        self.stuck = False\n",
    "        self.nbGetBall = 0\n",
    "            \n",
    "    def decide(self, tick):\n",
    "        if self.ball != None:\n",
    "            possibleGive = []\n",
    "            voisins = [self.sma.getAgent(i) for i in self.accointances]\n",
    "            for voisin in voisins:\n",
    "                if voisin.id_number % self.color == 0:\n",
    "                    possibleGive += [voisin]\n",
    "                elif self.color == 2 and isPrime(voisin.id_number):\n",
    "                    possibleGive += [voisin]\n",
    "                elif self.color == 3 and voisin.id_number % 2 == 1:\n",
    "                    possibleGive += [voisin]\n",
    "            if len(possibleGive) != 0:\n",
    "                self.giveBallTo(random.choice(possibleGive))\n",
    "            else:\n",
    "                self.stuck = True\n",
    "            \n",
    "    def getTheBall(self,ball):\n",
    "        #print(self)\n",
    "        self.ball = ball\n",
    "        self.nbGetBall += 1\n",
    "        \n",
    "    def giveBallTo(self,agent):\n",
    "        ball = self.ball\n",
    "        agent.getTheBall(ball)\n",
    "        self.ball = None\n",
    "        \n",
    "    def __str__(self):\n",
    "        return \"- Agent \"+str(self.id_number)+\" -\"\n",
    "    \n",
    "    def __repr__(self):\n",
    "        return str(self)\n",
    "    \n",
    "COLORS = [2,3,5,11]\n",
    "BALL = \"je suis une balle\"\n",
    "    \n",
    "class SMA:\n",
    "    def __init__(self, nb_agents,graph,adjacency_matrix,perColor1,perColor2,perColor3,perColor4):\n",
    "        self.tick = 0\n",
    "        self.nb_agents = nb_agents\n",
    "        self.agentList = []\n",
    "        self.stuck = False\n",
    "        self.graph = graph\n",
    "        perColors = [perColor1,perColor2,perColor3,perColor4]\n",
    "        \n",
    "        # Initialize accointances based on the matrix\n",
    "        for i in range(nb_agents):\n",
    "            self.agentList.append(Agent(self, random.randint(0,nb_agents), np.nonzero(adjacency_matrix[i])[0],random.choices(COLORS, weights=perColors, k=1)[0]))\n",
    "    \n",
    "    def createSMA_graph(graph,perColor1,perColor2,perColor3,perColor4):\n",
    "        matrix = nx.to_numpy_array(graph, nodelist=range(graph.number_of_nodes()))\n",
    "        return SMA(graph.number_of_nodes(),graph, matrix, perColor1,perColor2,perColor3,perColor4)\n",
    "    \n",
    "    def createSMA_nbagents(nb_agents,nb_contact,perColor1,perColor2,perColor3,perColor4):\n",
    "        graph = nx.barabasi_albert_graph(nb_agents, nb_contact)\n",
    "        return SMA.createSMA_graph(graph,perColor1,perColor2,perColor3,perColor4)\n",
    "    \n",
    "    def run(self, rounds):\n",
    "        self.tick = 0\n",
    "        self.clearAll()\n",
    "        self.setBall(random.randint(0,len(self.agentList)-1))\n",
    "        while(not(self.isStuck()) and self.tick<rounds and not(self.isFinished())):\n",
    "            self.runOnce()\n",
    "        #self.whoHasTheBall()\n",
    "        #self.show()\n",
    "        if self.isStuck():\n",
    "            return rounds * 2\n",
    "            #return rounds\n",
    "        elif self.isFinished():\n",
    "            #print(\"yeah !\")\n",
    "            return self.tick\n",
    "        else:\n",
    "            return self.tick\n",
    "            \n",
    "    def runOnce(self):\n",
    "        self.tick += 1\n",
    "        for agent in self.agentList:\n",
    "            agent.decide(self.tick)\n",
    "        #plt.close()\n",
    "        #self.show()\n",
    "            \n",
    "    def getAgent(self,i):\n",
    "        return self.agentList[i]\n",
    "    \n",
    "    def isStuck(self):\n",
    "        return any([agent.stuck for agent in self.agentList])\n",
    "    \n",
    "    def isFinished(self):\n",
    "        return all([(agent.nbGetBall > 0) for agent in self.agentList])\n",
    "    \n",
    "    def setBall(self,i):\n",
    "        self.getAgent(i).getTheBall(BALL)\n",
    "         \n",
    "    def clear(self,i):\n",
    "        agent = self.getAgent(i)\n",
    "        agent.ball = None\n",
    "        agent.stuck = False\n",
    "        \n",
    "    def clearAll(self):\n",
    "        for i in range(len(self.agentList)):\n",
    "            self.clear(i)\n",
    "            \n",
    "    def whoHasTheBall(self):\n",
    "        for agent in self.agentList:\n",
    "            if agent.ball != None:\n",
    "                print(agent)\n",
    "            \n",
    "    def show(self):\n",
    "        plt.figure(figsize=(10,5))\n",
    "        colors = []\n",
    "        for agent in self.agentList:\n",
    "            if agent.color == 2:\n",
    "                colors += [\"green\"]\n",
    "            elif agent.color == 3:\n",
    "                colors += [\"blue\"]\n",
    "            elif agent.color == 5:\n",
    "                colors += [\"orange\"]\n",
    "            else:\n",
    "                colors += [\"red\"]\n",
    "        nx.draw_networkx(self.graph, node_color=colors)\n",
    "        plt.axis('off')\n",
    "        plt.show()\n",
    "            "
   ]
  },
  {
   "cell_type": "code",
   "execution_count": 6,
   "metadata": {},
   "outputs": [
    {
     "data": {
      "text/plain": [
       "98.39"
      ]
     },
     "execution_count": 6,
     "metadata": {},
     "output_type": "execute_result"
    }
   ],
   "source": [
    "N = 10\n",
    "res = []\n",
    "for _ in range(100):\n",
    "    sma = SMA.createSMA_nbagents(N,3,60,30,10,0)\n",
    "    res += [sma.run(100)]\n",
    "np.mean(res)"
   ]
  },
  {
   "cell_type": "code",
   "execution_count": 4,
   "metadata": {},
   "outputs": [],
   "source": [
    "from deap import creator, tools, base, algorithms\n",
    "\n",
    "def evaluate_SMA(N,ind):\n",
    "    res = []\n",
    "    for i in range(10):\n",
    "        sma = SMA.createSMA_nbagents(N,ind[0],ind[1],ind[2],ind[3],ind[4])\n",
    "        res += [sma.run(100)]\n",
    "    return (np.mean(res),)\n",
    "    \n",
    "\n",
    "def algo_gen_SMA(nbind_pop,nb_gen,nb_cst,max_val_cst):\n",
    "    creator.create(\"FitnessMin\", base.Fitness, weights=(-1.0,))\n",
    "    creator.create(\"Individual\", list, fitness=creator.FitnessMin)\n",
    "    \n",
    "    toolbox=base.Toolbox()\n",
    "    toolbox.register(\"att\",random.randint,1,max_val_cst)\n",
    "    toolbox.register(\"individual\", tools.initRepeat, creator.Individual, toolbox.att, nb_cst)\n",
    "    toolbox.register(\"population\", tools.initRepeat, list, toolbox.individual)\n",
    "    toolbox.register(\"evaluate\",evaluate_SMA,nbind_pop)\n",
    "    toolbox.register(\"mutate\",tools.mutUniformInt,low=1,up=max_val_cst,indpb=0.2)\n",
    "    toolbox.register(\"mate\",tools.cxOnePoint)\n",
    "    toolbox.register(\"select\",tools.selTournament,tournsize=3)\n",
    "    \n",
    "    hof = tools.HallOfFame(1)\n",
    "\n",
    "    stats = tools.Statistics(lambda ind : ind.fitness.values)\n",
    "    stats.register(\"avg\",np.mean)\n",
    "    stats.register(\"std\",np.std)\n",
    "    stats.register(\"min\",np.min)\n",
    "    stats.register(\"max\",np.max)\n",
    "    \n",
    "    pop = toolbox.population(n=nbind_pop)\n",
    "    \n",
    "    pop, log = algorithms.eaSimple(pop,toolbox,cxpb=0.5, mutpb=0.2 , ngen=nb_gen , stats=stats, halloffame=hof, verbose=False)\n",
    "    \n",
    "    return {\"pop\":pop,\"log\":log,\"hof\":hof,\"stats\": stats}"
   ]
  },
  {
   "cell_type": "code",
   "execution_count": 10,
   "metadata": {},
   "outputs": [],
   "source": [
    "res = algo_gen_SMA(10,100,5,9)"
   ]
  },
  {
   "cell_type": "code",
   "execution_count": 7,
   "metadata": {},
   "outputs": [
    {
     "data": {
      "text/plain": [
       "[3, 6, 8, 1, 2]"
      ]
     },
     "execution_count": 7,
     "metadata": {},
     "output_type": "execute_result"
    }
   ],
   "source": [
    "res[\"hof\"][0]"
   ]
  },
  {
   "cell_type": "code",
   "execution_count": 9,
   "metadata": {},
   "outputs": [
    {
     "data": {
      "text/plain": [
       "[6, 9, 9, 5, 1]"
      ]
     },
     "execution_count": 9,
     "metadata": {},
     "output_type": "execute_result"
    }
   ],
   "source": [
    "res[\"hof\"][0]"
   ]
  },
  {
   "cell_type": "code",
   "execution_count": 11,
   "metadata": {},
   "outputs": [
    {
     "data": {
      "text/plain": [
       "[5, 7, 9, 1, 1]"
      ]
     },
     "execution_count": 11,
     "metadata": {},
     "output_type": "execute_result"
    }
   ],
   "source": [
    "res[\"hof\"][0]"
   ]
  },
  {
   "cell_type": "code",
   "execution_count": null,
   "metadata": {},
   "outputs": [],
   "source": []
  }
 ],
 "metadata": {
  "kernelspec": {
   "display_name": "Python 3",
   "language": "python",
   "name": "python3"
  },
  "language_info": {
   "codemirror_mode": {
    "name": "ipython",
    "version": 3
   },
   "file_extension": ".py",
   "mimetype": "text/x-python",
   "name": "python",
   "nbconvert_exporter": "python",
   "pygments_lexer": "ipython3",
   "version": "3.8.3"
  }
 },
 "nbformat": 4,
 "nbformat_minor": 4
}
