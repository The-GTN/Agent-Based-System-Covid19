{
 "cells": [
  {
   "cell_type": "code",
   "execution_count": 105,
   "id": "cedd40af",
   "metadata": {},
   "outputs": [],
   "source": [
    "import random\n",
    "import numpy as np\n",
    "from deap import creator, tools, base, algorithms"
   ]
  },
  {
   "cell_type": "code",
   "execution_count": 106,
   "id": "a7089eef",
   "metadata": {},
   "outputs": [],
   "source": [
    "# minimiseur de Fitness, mettre -1\n",
    "# maximiseur de Fitness, mettre +1\n",
    "creator.create(\"FitnessMin\", base.Fitness, weights=(-1.0,-1.0))\n",
    "#Q : quoi d'autre que base.Fitness; est-ce qu'on peut remplacer par une lambda qui fait min ?\n",
    "creator.create(\"Individual\", list, fitness=creator.FitnessMin)\n",
    "#Q: pourquoi il faut Fitness quand on cree un Individu ?"
   ]
  },
  {
   "cell_type": "code",
   "execution_count": 107,
   "id": "ffb93ab5",
   "metadata": {},
   "outputs": [],
   "source": [
    "toolbox=base.Toolbox()\n",
    "# permet d'enregistrer une fonction de génération d'un attribut\n",
    "toolbox.register(\"att\",random.randint,0,100)"
   ]
  },
  {
   "cell_type": "code",
   "execution_count": 108,
   "id": "0972cad6",
   "metadata": {},
   "outputs": [
    {
     "data": {
      "text/plain": [
       "85"
      ]
     },
     "execution_count": 108,
     "metadata": {},
     "output_type": "execute_result"
    }
   ],
   "source": [
    "toolbox.att()"
   ]
  },
  {
   "cell_type": "code",
   "execution_count": 109,
   "id": "4245faee",
   "metadata": {},
   "outputs": [],
   "source": [
    "# on definit une fonction de generatiion d'un individu\n",
    "#Q A quoi sert le creator.Individual ici ?\n",
    "toolbox.register(\"individual\", tools.initRepeat, creator.Individual, toolbox.att, 5)"
   ]
  },
  {
   "cell_type": "code",
   "execution_count": 110,
   "id": "002ede0d",
   "metadata": {},
   "outputs": [
    {
     "data": {
      "text/plain": [
       "[29, 18, 88, 86, 46]"
      ]
     },
     "execution_count": 110,
     "metadata": {},
     "output_type": "execute_result"
    }
   ],
   "source": [
    "toolbox.individual()"
   ]
  },
  {
   "cell_type": "code",
   "execution_count": 111,
   "id": "cd140192",
   "metadata": {},
   "outputs": [],
   "source": [
    "# on définit une fonction de generation de population\n",
    "toolbox.register(\"population\", tools.initRepeat, list, toolbox.individual)"
   ]
  },
  {
   "cell_type": "code",
   "execution_count": 112,
   "id": "7edb1313",
   "metadata": {},
   "outputs": [
    {
     "data": {
      "text/plain": [
       "[[22, 56, 48, 25, 67],\n",
       " [27, 46, 78, 95, 88],\n",
       " [40, 19, 43, 29, 44],\n",
       " [57, 64, 43, 87, 74],\n",
       " [95, 13, 34, 69, 12],\n",
       " [92, 23, 99, 23, 34],\n",
       " [86, 80, 29, 54, 87],\n",
       " [87, 16, 46, 79, 67],\n",
       " [29, 41, 67, 47, 47],\n",
       " [52, 35, 48, 86, 100]]"
      ]
     },
     "execution_count": 112,
     "metadata": {},
     "output_type": "execute_result"
    }
   ],
   "source": [
    "toolbox.population(n=10)"
   ]
  },
  {
   "cell_type": "code",
   "execution_count": 113,
   "id": "6cc06ed7",
   "metadata": {},
   "outputs": [],
   "source": [
    "# Fonction d'evaluation\n",
    "def sum_error(individual):\n",
    "    return (abs(100-sum(individual)),abs(100-individual[0]))"
   ]
  },
  {
   "cell_type": "code",
   "execution_count": 114,
   "id": "c0d6ec75",
   "metadata": {},
   "outputs": [
    {
     "data": {
      "text/plain": [
       "(118, 97)"
      ]
     },
     "execution_count": 114,
     "metadata": {},
     "output_type": "execute_result"
    }
   ],
   "source": [
    "ind =toolbox.individual()\n",
    "sum_error(ind)"
   ]
  },
  {
   "cell_type": "code",
   "execution_count": 115,
   "id": "1d4a40dc",
   "metadata": {},
   "outputs": [
    {
     "name": "stdout",
     "output_type": "stream",
     "text": [
      "[27, 44, 9, 19, 91]\n",
      " FitnessScore = (90, 73)\n",
      "[39, 27, 51, 3, 59]\n",
      " FitnessScore = (79, 61)\n",
      "[100, 55, 63, 27, 79]\n",
      " FitnessScore = (224, 0)\n",
      "[46, 56, 34, 1, 26]\n",
      " FitnessScore = (63, 54)\n",
      "[38, 48, 31, 27, 65]\n",
      " FitnessScore = (109, 62)\n",
      "[95, 95, 56, 4, 72]\n",
      " FitnessScore = (222, 5)\n",
      "[67, 89, 81, 60, 77]\n",
      " FitnessScore = (274, 33)\n",
      "[53, 36, 45, 78, 39]\n",
      " FitnessScore = (151, 47)\n",
      "[30, 11, 28, 37, 38]\n",
      " FitnessScore = (44, 70)\n",
      "[57, 98, 76, 93, 7]\n",
      " FitnessScore = (231, 43)\n"
     ]
    }
   ],
   "source": [
    "toolbox.register(\"evaluate\",sum_error)\n",
    "\n",
    "pop = toolbox.population(n=10)\n",
    "\n",
    "for ind in pop:\n",
    "    ind.fitness.value = toolbox.evaluate(ind)\n",
    "\n",
    "for ind in pop:\n",
    "    print(ind)\n",
    "    print(\" FitnessScore = \"+str(ind.fitness.value))\n",
    "\n",
    "#Q: comment on affiche notre pop avec la valeur de fitness pour chaque individu ?"
   ]
  },
  {
   "cell_type": "code",
   "execution_count": 116,
   "id": "79ec1b35",
   "metadata": {},
   "outputs": [],
   "source": [
    "toolbox.register(\"mate\",tools.cxTwoPoint)\n",
    "toolbox.register(\"mutate\",tools.mutUniformInt,low=0,up=100,indpb=0.2)\n",
    "#toolbox.register(\"select\",tools.selBest)\n",
    "toolbox.register(\"select\",tools.selTournament, tournsize=3)\n",
    "#Pourquoi Tournament et pas selBest ?"
   ]
  },
  {
   "cell_type": "code",
   "execution_count": 118,
   "id": "2edc9e23",
   "metadata": {},
   "outputs": [],
   "source": [
    "hof = tools.HallOfFame(10)"
   ]
  },
  {
   "cell_type": "code",
   "execution_count": 119,
   "id": "564f615c",
   "metadata": {},
   "outputs": [],
   "source": [
    "stats = tools.Statistics(lambda ind : ind.fitness.values)\n",
    "stats.register(\"avg\",np.mean)\n",
    "stats.register(\"std\",np.std)\n",
    "stats.register(\"min\",np.min)\n",
    "stats.register(\"max\",np.max)"
   ]
  },
  {
   "cell_type": "code",
   "execution_count": 120,
   "id": "67ff7efd",
   "metadata": {},
   "outputs": [],
   "source": [
    "pop = toolbox.population(n=1000)"
   ]
  },
  {
   "cell_type": "code",
   "execution_count": 121,
   "id": "7fcff657",
   "metadata": {
    "scrolled": true
   },
   "outputs": [
    {
     "name": "stdout",
     "output_type": "stream",
     "text": [
      "gen\tnevals\tavg    \tstd    \tmin\tmax\n",
      "0  \t1000  \t99.5345\t70.1433\t0  \t336\n",
      "1  \t608   \t80.372 \t47.0524\t0  \t298\n",
      "2  \t581   \t65.133 \t33.6859\t0  \t286\n",
      "3  \t617   \t54.8595\t32.4498\t0  \t219\n",
      "4  \t622   \t50.2785\t34.0814\t0  \t188\n",
      "5  \t615   \t49.005 \t35.213 \t0  \t192\n",
      "6  \t618   \t47.831 \t35.6838\t0  \t198\n",
      "7  \t651   \t47.0125\t35.9572\t0  \t175\n",
      "8  \t591   \t45.507 \t35.5186\t0  \t169\n",
      "9  \t623   \t45.74  \t35.5514\t0  \t168\n",
      "10 \t610   \t44.368 \t34.7904\t0  \t181\n",
      "11 \t576   \t43.439 \t34.7225\t0  \t178\n",
      "12 \t591   \t43.0195\t34.5282\t0  \t176\n",
      "13 \t571   \t41.8665\t34.5715\t0  \t189\n",
      "14 \t598   \t41.5585\t34.2845\t0  \t177\n",
      "15 \t592   \t41.5205\t34.8355\t0  \t177\n",
      "16 \t606   \t41.056 \t33.812 \t0  \t217\n",
      "17 \t601   \t38.766 \t32.363 \t0  \t192\n",
      "18 \t624   \t37.9185\t31.7874\t0  \t248\n",
      "19 \t637   \t36.2075\t30.0962\t0  \t203\n",
      "20 \t616   \t34.7985\t28.4184\t0  \t169\n",
      "21 \t591   \t32.0305\t27.8697\t0  \t273\n",
      "22 \t588   \t30.2885\t26.3154\t0  \t213\n",
      "23 \t585   \t29.2155\t25.6534\t0  \t156\n",
      "24 \t590   \t27.909 \t25.0938\t0  \t172\n",
      "25 \t619   \t27.157 \t25.2559\t0  \t180\n",
      "26 \t597   \t25.3805\t24.2077\t0  \t192\n",
      "27 \t591   \t24.3025\t25.0661\t0  \t249\n",
      "28 \t595   \t21.8615\t24.3507\t0  \t176\n",
      "29 \t575   \t16.814 \t20.3801\t0  \t140\n",
      "30 \t581   \t13.2805\t19.209 \t0  \t203\n",
      "31 \t620   \t12.775 \t19.3137\t0  \t226\n",
      "32 \t608   \t13.222 \t20.1905\t0  \t200\n",
      "33 \t599   \t12.5285\t19.5689\t0  \t210\n",
      "34 \t633   \t12.6585\t18.2639\t0  \t170\n",
      "35 \t598   \t13.279 \t20.1828\t0  \t206\n",
      "36 \t608   \t12.3925\t19.5539\t0  \t228\n",
      "37 \t557   \t11.76  \t17.6387\t0  \t188\n",
      "38 \t581   \t13.2485\t21.4506\t0  \t235\n",
      "39 \t658   \t13.524 \t21.3518\t0  \t236\n",
      "40 \t552   \t12.27  \t19.0762\t0  \t180\n"
     ]
    }
   ],
   "source": [
    "pop, log = algorithms.eaSimple(pop,toolbox,cxpb=0.5, mutpb=0.2 , ngen=40 , stats=stats, halloffame=hof)\n",
    "#Q : sémantique des paramètres ...diff entre le mutpb et le indpb ??"
   ]
  },
  {
   "cell_type": "code",
   "execution_count": 122,
   "id": "6863340e",
   "metadata": {},
   "outputs": [
    {
     "data": {
      "text/plain": [
       "[100, 100, 100, 100, 100]"
      ]
     },
     "execution_count": 122,
     "metadata": {},
     "output_type": "execute_result"
    }
   ],
   "source": [
    "[sum(i) for i in tools.selBest(pop,k=5)]"
   ]
  },
  {
   "cell_type": "code",
   "execution_count": 123,
   "id": "abdcf16e",
   "metadata": {},
   "outputs": [
    {
     "name": "stdout",
     "output_type": "stream",
     "text": [
      "[84, 4, 0, 11, 1]\n",
      "[84, 3, 2, 10, 1]\n",
      "[84, 2, 3, 10, 1]\n",
      "[84, 2, 9, 4, 1]\n",
      "[72, 3, 14, 10, 1]\n",
      "[63, 10, 10, 14, 3]\n",
      "[56, 13, 1, 24, 6]\n",
      "[52, 3, 0, 28, 17]\n",
      "[52, 3, 27, 1, 17]\n",
      "[50, 4, 28, 1, 17]\n"
     ]
    }
   ],
   "source": [
    "for i in hof:\n",
    "    print(i)"
   ]
  },
  {
   "cell_type": "code",
   "execution_count": null,
   "id": "b5bab3ed",
   "metadata": {},
   "outputs": [],
   "source": []
  }
 ],
 "metadata": {
  "kernelspec": {
   "display_name": "Python 3 (ipykernel)",
   "language": "python",
   "name": "python3"
  },
  "language_info": {
   "codemirror_mode": {
    "name": "ipython",
    "version": 3
   },
   "file_extension": ".py",
   "mimetype": "text/x-python",
   "name": "python",
   "nbconvert_exporter": "python",
   "pygments_lexer": "ipython3",
   "version": "3.9.12"
  }
 },
 "nbformat": 4,
 "nbformat_minor": 5
}
