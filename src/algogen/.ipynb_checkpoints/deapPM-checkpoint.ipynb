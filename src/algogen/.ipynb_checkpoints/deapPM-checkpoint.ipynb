{
 "cells": [
  {
   "cell_type": "code",
   "execution_count": 1,
   "metadata": {},
   "outputs": [],
   "source": [
    "import random\n",
    "import numpy as np\n",
    "from deap import creator, tools, base, algorithms"
   ]
  },
  {
   "cell_type": "code",
   "execution_count": 2,
   "metadata": {},
   "outputs": [],
   "source": [
    "# minimiseur de Fitness, mettre -1\n",
    "# maximiseur de Fitness, mettre +1\n",
    "creator.create(\"FitnessMin\", base.Fitness, weights=(-1.0,))\n",
    "#Q : quoi d'autre que base.Fitness; est-ce qu'on peut remplacer par une lambda qui fait min ?\n",
    "creator.create(\"Individual\", list, fitness=creator.FitnessMin)\n",
    "#Q: pourquoi il faut Fitness quand on cree un Individu ?"
   ]
  },
  {
   "cell_type": "code",
   "execution_count": 3,
   "metadata": {},
   "outputs": [],
   "source": [
    "toolbox=base.Toolbox()\n",
    "# permet d'enregistrer une fonction de génération d'un attribut\n",
    "toolbox.register(\"att\",random.randint,0,100)"
   ]
  },
  {
   "cell_type": "code",
   "execution_count": 4,
   "metadata": {},
   "outputs": [
    {
     "data": {
      "text/plain": [
       "46"
      ]
     },
     "execution_count": 4,
     "metadata": {},
     "output_type": "execute_result"
    }
   ],
   "source": [
    "toolbox.att()"
   ]
  },
  {
   "cell_type": "code",
   "execution_count": 5,
   "metadata": {},
   "outputs": [],
   "source": [
    "# on definit une fonction de generatiion d'un individu\n",
    "#Q A quoi sert le creator.Individual ici ?\n",
    "toolbox.register(\"individual\", tools.initRepeat, creator.Individual, toolbox.att, 5)"
   ]
  },
  {
   "cell_type": "code",
   "execution_count": 6,
   "metadata": {},
   "outputs": [
    {
     "data": {
      "text/plain": [
       "[76, 14, 35, 9, 99]"
      ]
     },
     "execution_count": 6,
     "metadata": {},
     "output_type": "execute_result"
    }
   ],
   "source": [
    "toolbox.individual()"
   ]
  },
  {
   "cell_type": "code",
   "execution_count": 7,
   "metadata": {},
   "outputs": [],
   "source": [
    "# on définit une fonction de generation de population\n",
    "toolbox.register(\"population\", tools.initRepeat, list, toolbox.individual)"
   ]
  },
  {
   "cell_type": "code",
   "execution_count": 8,
   "metadata": {},
   "outputs": [
    {
     "data": {
      "text/plain": [
       "[[22, 17, 15, 52, 14],\n",
       " [57, 91, 12, 100, 53],\n",
       " [33, 11, 15, 66, 68],\n",
       " [85, 5, 17, 12, 48],\n",
       " [84, 56, 35, 85, 78],\n",
       " [1, 49, 46, 72, 15],\n",
       " [27, 10, 49, 26, 91],\n",
       " [20, 85, 4, 74, 1],\n",
       " [3, 79, 74, 93, 9],\n",
       " [11, 8, 21, 43, 70]]"
      ]
     },
     "execution_count": 8,
     "metadata": {},
     "output_type": "execute_result"
    }
   ],
   "source": [
    "toolbox.population(n=10)"
   ]
  },
  {
   "cell_type": "code",
   "execution_count": 11,
   "metadata": {},
   "outputs": [],
   "source": [
    "# Fonction d'evaluation\n",
    "def sum_error(individual):\n",
    "    return (abs(42-sum(individual)),abs(100-sum(individual)))"
   ]
  },
  {
   "cell_type": "code",
   "execution_count": 12,
   "metadata": {},
   "outputs": [
    {
     "data": {
      "text/plain": [
       "(297, 239)"
      ]
     },
     "execution_count": 12,
     "metadata": {},
     "output_type": "execute_result"
    }
   ],
   "source": [
    "ind =toolbox.individual()\n",
    "sum_error(ind)"
   ]
  },
  {
   "cell_type": "code",
   "execution_count": 13,
   "metadata": {},
   "outputs": [],
   "source": [
    "toolbox.register(\"evaluate\",sum_error)\n",
    "\n",
    "#Q: comment on affiche notre pop avec la valeur de fitness pour chaque individu ?"
   ]
  },
  {
   "cell_type": "code",
   "execution_count": 14,
   "metadata": {},
   "outputs": [],
   "source": [
    "toolbox.register(\"mate\",tools.cxTwoPoint)\n",
    "toolbox.register(\"mutate\",tools.mutUniformInt,low=0,up=100,indpb=0.2)\n",
    "toolbox.register(\"select\",tools.selTournament, tournsize=3)\n",
    "#Pourquoi Tournament et pas selBest ?"
   ]
  },
  {
   "cell_type": "code",
   "execution_count": 22,
   "metadata": {},
   "outputs": [],
   "source": [
    "hof = tools.HallOfFame(1)"
   ]
  },
  {
   "cell_type": "code",
   "execution_count": 23,
   "metadata": {},
   "outputs": [],
   "source": [
    "stats = tools.Statistics(lambda ind : ind.fitness.values)\n",
    "stats.register(\"avg\",np.mean)\n",
    "stats.register(\"std\",np.std)\n",
    "stats.register(\"min\",np.min)\n",
    "stats.register(\"max\",np.max)"
   ]
  },
  {
   "cell_type": "code",
   "execution_count": 24,
   "metadata": {},
   "outputs": [],
   "source": [
    "pop = toolbox.population(n=100)"
   ]
  },
  {
   "cell_type": "code",
   "execution_count": 25,
   "metadata": {
    "scrolled": true
   },
   "outputs": [
    {
     "ename": "TypeError",
     "evalue": "'>=' not supported between instances of 'int' and 'type'",
     "output_type": "error",
     "traceback": [
      "\u001b[1;31m---------------------------------------------------------------------------\u001b[0m",
      "\u001b[1;31mTypeError\u001b[0m                                 Traceback (most recent call last)",
      "\u001b[1;32m<ipython-input-25-4fb48c899dbb>\u001b[0m in \u001b[0;36m<module>\u001b[1;34m\u001b[0m\n\u001b[1;32m----> 1\u001b[1;33m \u001b[0mpop\u001b[0m\u001b[1;33m,\u001b[0m \u001b[0mlog\u001b[0m \u001b[1;33m=\u001b[0m \u001b[0malgorithms\u001b[0m\u001b[1;33m.\u001b[0m\u001b[0meaSimple\u001b[0m\u001b[1;33m(\u001b[0m\u001b[0mpop\u001b[0m\u001b[1;33m,\u001b[0m\u001b[0mtoolbox\u001b[0m\u001b[1;33m,\u001b[0m\u001b[0mcxpb\u001b[0m\u001b[1;33m=\u001b[0m\u001b[1;36m0.5\u001b[0m\u001b[1;33m,\u001b[0m \u001b[0mmutpb\u001b[0m\u001b[1;33m=\u001b[0m\u001b[1;36m0.2\u001b[0m \u001b[1;33m,\u001b[0m \u001b[0mngen\u001b[0m\u001b[1;33m=\u001b[0m\u001b[1;36m40\u001b[0m \u001b[1;33m,\u001b[0m \u001b[0mstats\u001b[0m\u001b[1;33m=\u001b[0m\u001b[0mstats\u001b[0m\u001b[1;33m,\u001b[0m \u001b[0mhalloffame\u001b[0m\u001b[1;33m=\u001b[0m\u001b[0mhof\u001b[0m\u001b[1;33m)\u001b[0m\u001b[1;33m\u001b[0m\u001b[1;33m\u001b[0m\u001b[0m\n\u001b[0m\u001b[0;32m      2\u001b[0m \u001b[1;31m#Q : sémantique des paramètres ...diff entre le mutpb et le indpb ??\u001b[0m\u001b[1;33m\u001b[0m\u001b[1;33m\u001b[0m\u001b[1;33m\u001b[0m\u001b[0m\n",
      "\u001b[1;32m~\\anaconda3\\lib\\site-packages\\deap\\algorithms.py\u001b[0m in \u001b[0;36meaSimple\u001b[1;34m(population, toolbox, cxpb, mutpb, ngen, stats, halloffame, verbose)\u001b[0m\n\u001b[0;32m    153\u001b[0m \u001b[1;33m\u001b[0m\u001b[0m\n\u001b[0;32m    154\u001b[0m     \u001b[1;32mif\u001b[0m \u001b[0mhalloffame\u001b[0m \u001b[1;32mis\u001b[0m \u001b[1;32mnot\u001b[0m \u001b[1;32mNone\u001b[0m\u001b[1;33m:\u001b[0m\u001b[1;33m\u001b[0m\u001b[1;33m\u001b[0m\u001b[0m\n\u001b[1;32m--> 155\u001b[1;33m         \u001b[0mhalloffame\u001b[0m\u001b[1;33m.\u001b[0m\u001b[0mupdate\u001b[0m\u001b[1;33m(\u001b[0m\u001b[0mpopulation\u001b[0m\u001b[1;33m)\u001b[0m\u001b[1;33m\u001b[0m\u001b[1;33m\u001b[0m\u001b[0m\n\u001b[0m\u001b[0;32m    156\u001b[0m \u001b[1;33m\u001b[0m\u001b[0m\n\u001b[0;32m    157\u001b[0m     \u001b[0mrecord\u001b[0m \u001b[1;33m=\u001b[0m \u001b[0mstats\u001b[0m\u001b[1;33m.\u001b[0m\u001b[0mcompile\u001b[0m\u001b[1;33m(\u001b[0m\u001b[0mpopulation\u001b[0m\u001b[1;33m)\u001b[0m \u001b[1;32mif\u001b[0m \u001b[0mstats\u001b[0m \u001b[1;32melse\u001b[0m \u001b[1;33m{\u001b[0m\u001b[1;33m}\u001b[0m\u001b[1;33m\u001b[0m\u001b[1;33m\u001b[0m\u001b[0m\n",
      "\u001b[1;32m~\\anaconda3\\lib\\site-packages\\deap\\tools\\support.py\u001b[0m in \u001b[0;36mupdate\u001b[1;34m(self, population)\u001b[0m\n\u001b[0;32m    539\u001b[0m                     \u001b[1;31m# The individual is unique and strictly better than\u001b[0m\u001b[1;33m\u001b[0m\u001b[1;33m\u001b[0m\u001b[1;33m\u001b[0m\u001b[0m\n\u001b[0;32m    540\u001b[0m                     \u001b[1;31m# the worst\u001b[0m\u001b[1;33m\u001b[0m\u001b[1;33m\u001b[0m\u001b[1;33m\u001b[0m\u001b[0m\n\u001b[1;32m--> 541\u001b[1;33m                     \u001b[1;32mif\u001b[0m \u001b[0mlen\u001b[0m\u001b[1;33m(\u001b[0m\u001b[0mself\u001b[0m\u001b[1;33m)\u001b[0m \u001b[1;33m>=\u001b[0m \u001b[0mself\u001b[0m\u001b[1;33m.\u001b[0m\u001b[0mmaxsize\u001b[0m\u001b[1;33m:\u001b[0m\u001b[1;33m\u001b[0m\u001b[1;33m\u001b[0m\u001b[0m\n\u001b[0m\u001b[0;32m    542\u001b[0m                         \u001b[0mself\u001b[0m\u001b[1;33m.\u001b[0m\u001b[0mremove\u001b[0m\u001b[1;33m(\u001b[0m\u001b[1;33m-\u001b[0m\u001b[1;36m1\u001b[0m\u001b[1;33m)\u001b[0m\u001b[1;33m\u001b[0m\u001b[1;33m\u001b[0m\u001b[0m\n\u001b[0;32m    543\u001b[0m                     \u001b[0mself\u001b[0m\u001b[1;33m.\u001b[0m\u001b[0minsert\u001b[0m\u001b[1;33m(\u001b[0m\u001b[0mind\u001b[0m\u001b[1;33m)\u001b[0m\u001b[1;33m\u001b[0m\u001b[1;33m\u001b[0m\u001b[0m\n",
      "\u001b[1;31mTypeError\u001b[0m: '>=' not supported between instances of 'int' and 'type'"
     ]
    }
   ],
   "source": [
    "pop, log = algorithms.eaSimple(pop,toolbox,cxpb=0.5, mutpb=0.2 , ngen=40 , stats=stats, halloffame=hof)\n",
    "#Q : sémantique des paramètres ...diff entre le mutpb et le indpb ??"
   ]
  },
  {
   "cell_type": "code",
   "execution_count": 19,
   "metadata": {},
   "outputs": [
    {
     "data": {
      "text/plain": [
       "[42,\n",
       " 44,\n",
       " 42,\n",
       " 42,\n",
       " 42,\n",
       " 42,\n",
       " 130,\n",
       " 42,\n",
       " 42,\n",
       " 42,\n",
       " 42,\n",
       " 42,\n",
       " 42,\n",
       " 42,\n",
       " 100,\n",
       " 42,\n",
       " 235,\n",
       " 42,\n",
       " 42,\n",
       " 42,\n",
       " 42,\n",
       " 93,\n",
       " 42,\n",
       " 42,\n",
       " 42,\n",
       " 42,\n",
       " 42,\n",
       " 42,\n",
       " 42,\n",
       " 42,\n",
       " 34,\n",
       " 79,\n",
       " 42,\n",
       " 42,\n",
       " 42,\n",
       " 42,\n",
       " 42,\n",
       " 42,\n",
       " 42,\n",
       " 42,\n",
       " 42,\n",
       " 42,\n",
       " 42,\n",
       " 42,\n",
       " 42,\n",
       " 48,\n",
       " 42,\n",
       " 42,\n",
       " 42,\n",
       " 42,\n",
       " 42,\n",
       " 42,\n",
       " 42,\n",
       " 42,\n",
       " 42,\n",
       " 42,\n",
       " 42,\n",
       " 42,\n",
       " 42,\n",
       " 185,\n",
       " 42,\n",
       " 42,\n",
       " 124,\n",
       " 42,\n",
       " 42,\n",
       " 42,\n",
       " 42,\n",
       " 42,\n",
       " 112,\n",
       " 63,\n",
       " 42,\n",
       " 42,\n",
       " 42,\n",
       " 42,\n",
       " 42,\n",
       " 42,\n",
       " 42,\n",
       " 42,\n",
       " 42,\n",
       " 42,\n",
       " 42,\n",
       " 42,\n",
       " 42,\n",
       " 42,\n",
       " 42,\n",
       " 42,\n",
       " 42,\n",
       " 42,\n",
       " 42,\n",
       " 42,\n",
       " 42,\n",
       " 146,\n",
       " 42,\n",
       " 42,\n",
       " 42,\n",
       " 60,\n",
       " 42,\n",
       " 42,\n",
       " 42,\n",
       " 42]"
      ]
     },
     "execution_count": 19,
     "metadata": {},
     "output_type": "execute_result"
    }
   ],
   "source": [
    "[sum(ind) for ind in pop]"
   ]
  },
  {
   "cell_type": "code",
   "execution_count": 20,
   "metadata": {},
   "outputs": [
    {
     "data": {
      "text/plain": [
       "[[2, 5, 29, 6, 0],\n",
       " [2, 5, 29, 6, 0],\n",
       " [2, 5, 29, 6, 0],\n",
       " [2, 5, 29, 6, 0],\n",
       " [2, 5, 29, 6, 0]]"
      ]
     },
     "execution_count": 20,
     "metadata": {},
     "output_type": "execute_result"
    }
   ],
   "source": [
    "tools.selBest(pop,k=5)"
   ]
  },
  {
   "cell_type": "code",
   "execution_count": 21,
   "metadata": {},
   "outputs": [
    {
     "data": {
      "text/plain": [
       "[{'gen': 0,\n",
       "  'nevals': 100,\n",
       "  'avg': 205.48,\n",
       "  'std': 63.05481424919115,\n",
       "  'min': 17.0,\n",
       "  'max': 377.0},\n",
       " {'gen': 1,\n",
       "  'nevals': 69,\n",
       "  'avg': 162.6,\n",
       "  'std': 57.253820833198546,\n",
       "  'min': 21.0,\n",
       "  'max': 304.0},\n",
       " {'gen': 2,\n",
       "  'nevals': 61,\n",
       "  'avg': 119.95,\n",
       "  'std': 45.76841159577204,\n",
       "  'min': 6.0,\n",
       "  'max': 228.0},\n",
       " {'gen': 3,\n",
       "  'nevals': 66,\n",
       "  'avg': 81.06,\n",
       "  'std': 40.21139639455461,\n",
       "  'min': 6.0,\n",
       "  'max': 171.0},\n",
       " {'gen': 4,\n",
       "  'nevals': 60,\n",
       "  'avg': 57.85,\n",
       "  'std': 40.05630412307156,\n",
       "  'min': 0.0,\n",
       "  'max': 174.0},\n",
       " {'gen': 5,\n",
       "  'nevals': 57,\n",
       "  'avg': 33.54,\n",
       "  'std': 26.075436717339944,\n",
       "  'min': 1.0,\n",
       "  'max': 143.0},\n",
       " {'gen': 6,\n",
       "  'nevals': 60,\n",
       "  'avg': 22.98,\n",
       "  'std': 31.378648791813838,\n",
       "  'min': 1.0,\n",
       "  'max': 182.0},\n",
       " {'gen': 7,\n",
       "  'nevals': 66,\n",
       "  'avg': 16.14,\n",
       "  'std': 24.71720858025841,\n",
       "  'min': 0.0,\n",
       "  'max': 161.0},\n",
       " {'gen': 8,\n",
       "  'nevals': 57,\n",
       "  'avg': 13.56,\n",
       "  'std': 22.81460935453421,\n",
       "  'min': 0.0,\n",
       "  'max': 111.0},\n",
       " {'gen': 9,\n",
       "  'nevals': 62,\n",
       "  'avg': 15.82,\n",
       "  'std': 27.551907374989486,\n",
       "  'min': 0.0,\n",
       "  'max': 156.0},\n",
       " {'gen': 10,\n",
       "  'nevals': 69,\n",
       "  'avg': 16.94,\n",
       "  'std': 34.37377488725962,\n",
       "  'min': 0.0,\n",
       "  'max': 241.0},\n",
       " {'gen': 11,\n",
       "  'nevals': 54,\n",
       "  'avg': 11.91,\n",
       "  'std': 24.824220028029078,\n",
       "  'min': 0.0,\n",
       "  'max': 144.0},\n",
       " {'gen': 12,\n",
       "  'nevals': 58,\n",
       "  'avg': 10.81,\n",
       "  'std': 28.680200487444296,\n",
       "  'min': 0.0,\n",
       "  'max': 231.0},\n",
       " {'gen': 13,\n",
       "  'nevals': 68,\n",
       "  'avg': 12.77,\n",
       "  'std': 28.993052616100982,\n",
       "  'min': 0.0,\n",
       "  'max': 185.0},\n",
       " {'gen': 14,\n",
       "  'nevals': 57,\n",
       "  'avg': 9.89,\n",
       "  'std': 16.716994347070887,\n",
       "  'min': 0.0,\n",
       "  'max': 82.0},\n",
       " {'gen': 15,\n",
       "  'nevals': 59,\n",
       "  'avg': 9.16,\n",
       "  'std': 22.360554554840537,\n",
       "  'min': 0.0,\n",
       "  'max': 123.0},\n",
       " {'gen': 16,\n",
       "  'nevals': 55,\n",
       "  'avg': 11.15,\n",
       "  'std': 25.457562727016896,\n",
       "  'min': 0.0,\n",
       "  'max': 138.0},\n",
       " {'gen': 17,\n",
       "  'nevals': 64,\n",
       "  'avg': 14.62,\n",
       "  'std': 30.24889419466437,\n",
       "  'min': 0.0,\n",
       "  'max': 155.0},\n",
       " {'gen': 18,\n",
       "  'nevals': 62,\n",
       "  'avg': 10.97,\n",
       "  'std': 21.497188188225923,\n",
       "  'min': 0.0,\n",
       "  'max': 117.0},\n",
       " {'gen': 19,\n",
       "  'nevals': 59,\n",
       "  'avg': 13.56,\n",
       "  'std': 35.63574609854549,\n",
       "  'min': 0.0,\n",
       "  'max': 199.0},\n",
       " {'gen': 20,\n",
       "  'nevals': 70,\n",
       "  'avg': 14.65,\n",
       "  'std': 32.23425972470905,\n",
       "  'min': 0.0,\n",
       "  'max': 155.0},\n",
       " {'gen': 21,\n",
       "  'nevals': 70,\n",
       "  'avg': 14.03,\n",
       "  'std': 35.95398587083218,\n",
       "  'min': 0.0,\n",
       "  'max': 244.0},\n",
       " {'gen': 22,\n",
       "  'nevals': 64,\n",
       "  'avg': 8.1,\n",
       "  'std': 23.598940654190397,\n",
       "  'min': 0.0,\n",
       "  'max': 119.0},\n",
       " {'gen': 23,\n",
       "  'nevals': 48,\n",
       "  'avg': 9.95,\n",
       "  'std': 30.1125804274559,\n",
       "  'min': 0.0,\n",
       "  'max': 219.0},\n",
       " {'gen': 24,\n",
       "  'nevals': 59,\n",
       "  'avg': 11.51,\n",
       "  'std': 33.06281748429798,\n",
       "  'min': 0.0,\n",
       "  'max': 184.0},\n",
       " {'gen': 25,\n",
       "  'nevals': 70,\n",
       "  'avg': 5.59,\n",
       "  'std': 16.44146891247859,\n",
       "  'min': 0.0,\n",
       "  'max': 84.0},\n",
       " {'gen': 26,\n",
       "  'nevals': 63,\n",
       "  'avg': 15.29,\n",
       "  'std': 36.03978218580129,\n",
       "  'min': 0.0,\n",
       "  'max': 205.0},\n",
       " {'gen': 27,\n",
       "  'nevals': 71,\n",
       "  'avg': 10.18,\n",
       "  'std': 28.61900766972887,\n",
       "  'min': 0.0,\n",
       "  'max': 158.0},\n",
       " {'gen': 28,\n",
       "  'nevals': 67,\n",
       "  'avg': 6.97,\n",
       "  'std': 22.163688772404292,\n",
       "  'min': 0.0,\n",
       "  'max': 116.0},\n",
       " {'gen': 29,\n",
       "  'nevals': 53,\n",
       "  'avg': 12.75,\n",
       "  'std': 31.74881887566843,\n",
       "  'min': 0.0,\n",
       "  'max': 158.0},\n",
       " {'gen': 30,\n",
       "  'nevals': 59,\n",
       "  'avg': 10.82,\n",
       "  'std': 31.023661937301988,\n",
       "  'min': 0.0,\n",
       "  'max': 164.0},\n",
       " {'gen': 31,\n",
       "  'nevals': 60,\n",
       "  'avg': 12.89,\n",
       "  'std': 31.25248630109291,\n",
       "  'min': 0.0,\n",
       "  'max': 148.0},\n",
       " {'gen': 32,\n",
       "  'nevals': 68,\n",
       "  'avg': 8.67,\n",
       "  'std': 23.00524070728233,\n",
       "  'min': 0.0,\n",
       "  'max': 94.0},\n",
       " {'gen': 33,\n",
       "  'nevals': 50,\n",
       "  'avg': 7.97,\n",
       "  'std': 24.952536945168525,\n",
       "  'min': 0.0,\n",
       "  'max': 158.0},\n",
       " {'gen': 34,\n",
       "  'nevals': 64,\n",
       "  'avg': 5.93,\n",
       "  'std': 21.951425921793785,\n",
       "  'min': 0.0,\n",
       "  'max': 120.0},\n",
       " {'gen': 35,\n",
       "  'nevals': 60,\n",
       "  'avg': 3.44,\n",
       "  'std': 12.341247910969134,\n",
       "  'min': 0.0,\n",
       "  'max': 88.0},\n",
       " {'gen': 36,\n",
       "  'nevals': 56,\n",
       "  'avg': 7.35,\n",
       "  'std': 23.70585370747065,\n",
       "  'min': 0.0,\n",
       "  'max': 159.0},\n",
       " {'gen': 37,\n",
       "  'nevals': 61,\n",
       "  'avg': 9.0,\n",
       "  'std': 25.912545224273128,\n",
       "  'min': 0.0,\n",
       "  'max': 127.0},\n",
       " {'gen': 38,\n",
       "  'nevals': 55,\n",
       "  'avg': 8.16,\n",
       "  'std': 25.86067284507501,\n",
       "  'min': 0.0,\n",
       "  'max': 149.0},\n",
       " {'gen': 39,\n",
       "  'nevals': 59,\n",
       "  'avg': 5.04,\n",
       "  'std': 18.039911307985967,\n",
       "  'min': 0.0,\n",
       "  'max': 104.0},\n",
       " {'gen': 40,\n",
       "  'nevals': 54,\n",
       "  'avg': 8.81,\n",
       "  'std': 29.71925133646539,\n",
       "  'min': 0.0,\n",
       "  'max': 193.0}]"
      ]
     },
     "execution_count": 21,
     "metadata": {},
     "output_type": "execute_result"
    }
   ],
   "source": [
    "log"
   ]
  },
  {
   "cell_type": "code",
   "execution_count": null,
   "metadata": {},
   "outputs": [],
   "source": []
  }
 ],
 "metadata": {
  "kernelspec": {
   "display_name": "Python 3",
   "language": "python",
   "name": "python3"
  },
  "language_info": {
   "codemirror_mode": {
    "name": "ipython",
    "version": 3
   },
   "file_extension": ".py",
   "mimetype": "text/x-python",
   "name": "python",
   "nbconvert_exporter": "python",
   "pygments_lexer": "ipython3",
   "version": "3.8.3"
  }
 },
 "nbformat": 4,
 "nbformat_minor": 5
}
