{
 "cells": [
  {
   "cell_type": "markdown",
   "metadata": {
    "slideshow": {
     "slide_type": "-"
    }
   },
   "source": [
    " # Tuto Deap\n",
    " \n",
    " ---"
   ]
  },
  {
   "cell_type": "markdown",
   "metadata": {},
   "source": [
    "Dans le cadre de mes recherches dans la simulation d'épidémie par Système Multi-Agents, j'ai dû appréhender le principe d'algorithme génétique.\n",
    "Après avoir acquis ses principes, j'ai découvert la librairie python dénommée **Deap**.\n",
    "Ce tuto a pour but de mettre au clair les possibilités que nous offre cette librairie."
   ]
  },
  {
   "cell_type": "markdown",
   "metadata": {},
   "source": [
    "## Contenu"
   ]
  },
  {
   "cell_type": "markdown",
   "metadata": {},
   "source": [
    "Dans cette section **Contenu**, nous allons voir ce que nous allons nous focaliser sur la composition de la librairie."
   ]
  },
  {
   "cell_type": "markdown",
   "metadata": {},
   "source": [
    "---\n",
    "### creator"
   ]
  },
  {
   "cell_type": "markdown",
   "metadata": {},
   "source": [
    "Nous allons donc commencer par le module `creator` avec lequel nous allons pouvoir facilement concevoir n'importe quelle classe que nous allons pouvoir ensuite réutiliser pour nos algorithmes génétiques."
   ]
  },
  {
   "cell_type": "code",
   "execution_count": null,
   "metadata": {},
   "outputs": [],
   "source": [
    "from deap import creator"
   ]
  },
  {
   "cell_type": "markdown",
   "metadata": {},
   "source": [
    "Méthode importante : `create`\n",
    "\n",
    "    deap.creator.create(name, base[, attribute[, ...]])\n",
    "    \n",
    "Cette fonction sert à créer une nouvelle classe.\n",
    "\n",
    "**Voici à quoi correspond chacun de ses paramètres** :\n",
    "* **name** : Le nom de la classe qu'on veut créer\n",
    "* **base** : La classe créée héritera de cette classe base\n",
    "* **attribute** : chacun des prochains arguments deviendront attributs de la classe créée\n",
    "    * si l'attribut est une classe, son construteur sera appelé et l'instance créée sera mise en attribut de la classe\n",
    "    * sinon l'attribut est défini, il sera une constante de classe de la classe créée\n",
    "    \n",
    "Voici un exemple :\n",
    "\n",
    "    create(\"Exemple\", list, repertoire=dict, numero=1)\n",
    "    \n",
    "Correspond à créer la classe suivante :\n",
    "\n",
    "    class Exemple(list):\n",
    "        numero = 1\n",
    "\n",
    "        def __init__(self):\n",
    "            self.repertoire = dict()\n",
    "            \n",
    "On pourra donc par la suite faire appel à notre classe en tant que `creator.Exemple`."
   ]
  },
  {
   "cell_type": "markdown",
   "metadata": {},
   "source": [
    "---\n",
    "### base"
   ]
  },
  {
   "cell_type": "markdown",
   "metadata": {},
   "source": [
    "Nous allons maintenant nous concentrer sur le module `base`. Il sera notamment utile pour accèder aux classes `deap.base.Fitness` et `deap.base.Toolbox`."
   ]
  },
  {
   "cell_type": "code",
   "execution_count": null,
   "metadata": {},
   "outputs": [],
   "source": [
    "from deap.base import Fitness"
   ]
  },
  {
   "cell_type": "markdown",
   "metadata": {},
   "source": [
    "La fonction `create`, précédemment vue, nous servira donc à créer notre Objectif, notre **Fitness**.\n",
    "\n",
    "    deap.creator.create(\"FitnessMin\", base.Fitness, weights=(-1.0,))\n",
    "    \n",
    "Ici, nous avons créé une classe `FitnessMin` qui hérite donc de la classe `Fitness` du module `deap.base`.\n",
    "\n",
    "Le paramètre ajouté, le tuple `weights`, correspond à la direction de l'objectif de notre Fitness (il est nécessaire).\n",
    "\n",
    "Dans l'exemple ci-dessus, nous avons un Fitness avec un objectif de minimisation (de part le poids négatif).\n",
    "\n",
    "Voici donc les manières respectives de créer des Fitness avec objectif de maximisation et des Fitness avec objectif de minimisation **et** de maximisation (en effet, l'attribut `weights` permet de gérer des Fitness multi-objectif comme les Fitness mono-objectif)\n",
    "\n",
    "    # La maximisation\n",
    "    deap.creator.create(\"FitnessMax\", base.Fitness, weights=(1.0,))\n",
    "    \n",
    "    # La minimisation et la maximisation\n",
    "    deap.creator.create(\"FitnessMulti\", base.Fitness, weights=(-1.0,1.0))"
   ]
  },
  {
   "cell_type": "code",
   "execution_count": null,
   "metadata": {},
   "outputs": [],
   "source": [
    "from deap.base import Toolbox"
   ]
  },
  {
   "cell_type": "markdown",
   "metadata": {},
   "source": [
    "La classe `Toolbox` sera très utilisé notamment pour sa méthode `register`.\n",
    "\n",
    "    register(alias, method[, argument[, ...]])\n",
    "\n",
    "Cette méthode servira à affecter une certaine fonction avec un certain alias.\n",
    "\n",
    "**Voici à quoi correspond chacun de ses paramètres** :\n",
    "\n",
    "* **alias** : le nom par lequel nous appelerons la fonction\n",
    "* **method** : la fonction qu'on veut affecter à l'alias\n",
    "* **argument** : les derniers paramètres seront mis en paramètre de la fonction\n",
    "\n",
    "Exemple d'utilisation :\n",
    "\n",
    "    >>> def f_exemple(a, b, parametreConnu=42):\n",
    "    ...     print a, b, parametreConnu\n",
    "    ...\n",
    "    >>> tools = Toolbox()\n",
    "    >>> tools.register(\"monExemple\", f_exemple, 13, parametreConnu=66)\n",
    "    >>> tools.monExemple(42)\n",
    "    13 42 66\n",
    "    \n",
    "Il est bien évidemment possible de déaffecter une fonction de son alias par la méthode suivante :\n",
    "\n",
    "    unregister(alias)\n",
    "\n",
    "Il est de même possible d'affecter un décorateur (NAB : un décorateur peut être constitué de plusieurs décorateurs) à un alias :\n",
    "\n",
    "    decorate(alias, decorator[, decorator[, ...]])\n",
    "    \n",
    "Enfin, on peut simplement cloner la `Toolbox` grâce à sa méthode `clone()`. Celle-ci aura le même comportement que la fonction `copy.deepcopy()`."
   ]
  },
  {
   "cell_type": "markdown",
   "metadata": {},
   "source": [
    "---\n",
    "### tools"
   ]
  },
  {
   "cell_type": "markdown",
   "metadata": {},
   "source": [
    "Ensuite, c'est avec le module `tools` que nous allons pouvoir accéder aux différentes fonctions qui vont nous intéresser pour implémenter nos algorithmes génétiques. Ce module porte en effet bien son nom, car les fonctions de ce module pourront être conserver dans une instance de la classe `Toolbox`."
   ]
  },
  {
   "cell_type": "code",
   "execution_count": null,
   "metadata": {},
   "outputs": [],
   "source": [
    "from deap import tools"
   ]
  },
  {
   "cell_type": "markdown",
   "metadata": {},
   "source": [
    "Il y a en effet une multitude d'outils qu'il est possible de réutiliser.\n",
    "\n",
    "Bien qu'ils soient nombreux, il est quand même possible de les grouper vis à vis de leur utilité.\n",
    "\n",
    "|Initialisation  |Coupe (Crossover)         |Mutation              |Sélection      | Migration          |Bloat control |\n",
    "|:--------------:|:------------------------:|:--------------------:|:-------------:|:---------------:| :----:|\n",
    "|initRepeat()    |cxOnePoint()              |mutGaussian()         |selTournament()                 |migRing()|staticLimit()|\n",
    "|initIterate()   |cxTwoPoint()              |mutShuffleIndexes()   |selRoulette()                   ||selDoubleTournament() |\n",
    "|initCycle()     |cxUniform()               |mutFlipBit()          |selNSGA2()                      |           ||\n",
    "|genFull()       |cxPatialyMatched()        |mutPolynomialBounded()|selNSGA3()                      |          ||\n",
    "|genGrow()       |cxUniformPartialyMatched()|mutUniformInt()       |selSPEA2()                      |           ||\n",
    "|genHalfAndHalf()|cxOrdered()               |mutESLogNormal()      |selRandom()                     |           | |\n",
    "|                |cxBlend()                 |mutShrink()           |selBest()                       |           ||\n",
    "|                |cxESBlend()               |mutUniform()          |selWorst()                      |           ||\n",
    "|                |cxESTwoPoint()            |mutNodeReplacement()  |selTournamentDCD()              |           | |\n",
    "|                |cxSimulatedBinary()       |mutEphemeral()        |selDoubleTournament()           |           | |\n",
    "|                |cxSimulatedBinaryBounded()|mutInsert()           |selStochasticUniversalSampling()|| |\n",
    "|                |cxMessyOnePoint()         |mutSemantic()         |selLexicase()                   |||\n",
    "|                |cxOnePoint()              |                      |selEpsilonLexicase()            ||  |\n",
    "|                |cxOnePointLeafBiased()    |                      |selAutomaticEpsilonLexicase()   |           |  |\n",
    "|                |cxSemantic()              |                      |                                |           |  |"
   ]
  },
  {
   "cell_type": "markdown",
   "metadata": {},
   "source": [
    "Cette liste est d'une taille importante. Nous allons donc, dans ce tuto, ne décrire que certaines d'entre elles. Celles qui seront le plus couramment utilisé. (consulter ce [lien](https://deap.readthedocs.io/en/master/api/tools.html \"doc\") pour plus d'information sur ces différentes fonctions)"
   ]
  },
  {
   "cell_type": "markdown",
   "metadata": {},
   "source": [
    "#### L'initialisation\n",
    "\n",
    "---\n",
    "\n",
    "    initRepeat(container, func, n)\n",
    "\n",
    "paramètres :\n",
    "* container : le type de structure de donnée dans laquelle nous allons mettre nos données \n",
    "* func : la fonction qui va être appelée n fois pour remplir la structure container\n",
    "* n : le nombre de fois qu'il faut répéter la fonction func\n",
    "\n",
    "Renvoie la structure remplie des données issues de la fonction funct.\n",
    "\n",
    "---\n",
    "\n",
    "    initIterate(container, generator)\n",
    "    \n",
    "paramètres :\n",
    "\n",
    "* container : le type de structure de donnée dans laquelle nous allons mettre nos données\n",
    "* generator : la fonction qui retournera un iterable, dont le contenu remplira la structure container \n",
    "\n",
    "Renvoie la structure remplie des données issues de la fonction generator.\n",
    "\n",
    "---"
   ]
  },
  {
   "cell_type": "markdown",
   "metadata": {},
   "source": [
    "#### Le croisement (CrossingOver)\n",
    "\n",
    "---\n",
    "\n",
    "    cxOnePoint(ind1, ind2)\n",
    "\n",
    "paramètres :\n",
    "* ind1 : le premier individu qui participe à cette coupe, à ce crossover\n",
    "* ind2 : le deuxième individu qui participe à cette coupe, à ce crossover\n",
    "\n",
    "Renvoie un tuple de deux nouveaux individus. Obtenues grâce à un croisement à un point.\n",
    "\n",
    "---\n",
    "\n",
    "    cxTwoPoint(ind1, ind2)\n",
    "\n",
    "paramètres :\n",
    "* ind1 : le premier individu qui participe à cette coupe, à ce crossover\n",
    "* ind2 : le deuxième individu qui participe à cette coupe, à ce crossover\n",
    "\n",
    "Renvoie un tuple de deux nouveaux individus. Obtenues grâce à un croisement à deux points.\n",
    "\n",
    "---\n",
    "\n",
    "    cxOrdered(ind1, ind2)\n",
    "    \n",
    "paramètres :\n",
    "* ind1 : le premier individu qui participe à cette coupe, à ce crossover\n",
    "* ind2 : le deuxième individu qui participe à cette coupe, à ce crossover\n",
    "\n",
    "Renvoie un tuple de deux nouveaux individus. Obtenues grâce à un croisement de l'algorithme de Goldberg. \n",
    "\n",
    "(Genetic algorithms in search, optimization and machine learning. Addison Wesley, 1989)\n",
    "\n",
    "---"
   ]
  },
  {
   "cell_type": "markdown",
   "metadata": {},
   "source": [
    "#### La Mutation\n",
    "\n",
    "---\n",
    "\n",
    "    mutShuffleIndexes(individual, indpb)\n",
    "    \n",
    "paramètres :\n",
    "\n",
    "* individual : l'individu qui subit la mutation\n",
    "* indpb : la probabilité indépendante que chaque attribut de l'individu a de changer\n",
    "\n",
    "Renvoie l'individu ayant potentiellement muté.\n",
    "\n",
    "---"
   ]
  },
  {
   "cell_type": "markdown",
   "metadata": {},
   "source": [
    "#### La sélection\n",
    "\n",
    "---\n",
    "\n",
    "    selTournament(individuals, k, tournsize, fit_attr='fitness')\n",
    "    \n",
    "paramètres :\n",
    "\n",
    "* individuals : la population parmi laquelle il faut sélectionner des individus\n",
    "* k : le nombre d'individus à sélectionner\n",
    "* tournsize : la taille des tournois effectués (combien d'individus par tournoi)\n",
    "* fit_attr : l'attribut qu'on utilise en tant que critère de sélection\n",
    "\n",
    "Renvoie la liste des individus sélectionnés par tournois.\n",
    "\n",
    "---\n",
    "\n",
    "    selRoulette(individuals, k, fit_attr='fitness')\n",
    "    \n",
    "paramètres :\n",
    "\n",
    "* individuals : la population parmi laquelle il faut sélectionner des individus\n",
    "* k : le nombre d'individus à sélectionner\n",
    "* fit_attr : l'attribut des individus qu'on utilise en tant que critère de sélection, qui est de base l'attribut fitness\n",
    "\n",
    "Renvoie la liste des individus sélectionnés par roulette.\n",
    "\n",
    "---\n",
    "\n",
    "    selRandom(individuals, k)\n",
    "    \n",
    "paramètres :\n",
    "\n",
    "* individuals : la population parmi laquelle il faut sélectionner des individus\n",
    "* k : le nombre d'individus à sélectionner\n",
    "\n",
    "Renvoie la liste des individus sélectionnés aléatoirement.\n",
    "\n",
    "---\n",
    "    \n",
    "    selBest(individuals, k, fit_attr='fitness')\n",
    "    \n",
    "paramètres :\n",
    "\n",
    "* individuals : la population parmi laquelle il faut sélectionner des individus\n",
    "* k : le nombre d'individus à sélectionner\n",
    "* fit_attr : l'attribut qu'on utilise en tant que critère de sélection\n",
    "\n",
    "Renvoie la liste des k meilleurs individus sélectionnés.\n",
    "   \n",
    "---\n",
    "   \n",
    "    selWorst(individuals, k, fit_attr='fitness')\n",
    "    \n",
    "paramètres :\n",
    "\n",
    "* individuals : la population parmi laquelle il faut sélectionner des individus\n",
    "* k : le nombre d'individus à sélectionner\n",
    "* fit_attr : l'attribut qu'on utilise en tant que critère de sélection\n",
    "\n",
    "Renvoie la liste des k pires individus sélectionnés."
   ]
  },
  {
   "cell_type": "markdown",
   "metadata": {},
   "source": [
    "---\n",
    "\n",
    "### Algorithms\n",
    "\n",
    "Enfin, le vive du sujet : l'algorithme génétique !"
   ]
  },
  {
   "cell_type": "code",
   "execution_count": null,
   "metadata": {},
   "outputs": [],
   "source": [
    "from deap import algorithms"
   ]
  },
  {
   "cell_type": "markdown",
   "metadata": {},
   "source": [
    "Ce module propose plusieurs algorithmes génétiques.\n",
    "\n",
    "---\n",
    "\n",
    "    deap.algorithms.eaSimple(population, toolbox, cxpb, mutpb, ngen[, stats, halloffame, verbose])\n",
    "    \n",
    "paramètres :\n",
    "    \n",
    "* population : une liste d'individus\n",
    "* toolbox : une boîte à outil, une instance de la classe `deap.base.Toolbox`, qui devra contenir les différents opérateur d'évolutions :\n",
    "    * \"evaluate\" : doit prendre un individu en paramètre, pour renvoyer son score dans un tuple \n",
    "    * \"mate\" : doit prendre deux individus en paramètre, pour renvoyer un tuple de deux nouveaux individus créés par mélange des individus rentrés en paramètres\n",
    "    * \"mutate\" : doit prendre un individu en paramètre, pour renvoyer un tuple avec un individu mutant\n",
    "    * \"select\" : prend une population, un nombre d'individus à sélectionner, pour renvoyer une liste de k individu\n",
    "* cxpb : La probabilité qu'il y ait croisement d'individus\n",
    "* mutpb : La probabilité qu'un individu mute\n",
    "* ngen : Le nombre de génération\n",
    "* stats : Une instance de la classe `deap.tools.Statistics` pour enregistrer des données statistiques (paramètre optionnel)\n",
    "* halloffame : Une instance de la classe `deap.tools.HallOfFame` qui contiendra les meilleurs individus (paramètre optionnel)\n",
    "* verbose : Booleen, es ce qu'on veut afficher les statistiques sur la sortie standard ? (initialemment égal à True)\n",
    "\n",
    "Renvoie un tuple contenant 2 éléments : \n",
    "* la population finale sélectionné par l'algorithme  \n",
    "* une instance de la classe `deap.tools.Logbook` avec les statistiques de l'évolution\n",
    "\n",
    "Cet algorithme génétique \"simple\" effectue ngen fois l'algorithme suivant :\n",
    "\n",
    "1. sélection de longueur(population) individus de la population (selon la fonction toolbox.select établie)\n",
    "    \n",
    "    \n",
    "2. sur chaque paire d'individus 2 à 2 de la population sélectionnée, un crossing-over (le croisement d'individu, selon la fonction toolbox.mate établie) a cxpb de chance de se produire (les individus parents sont remplacés par le résultat du crossing-over lorsqu'il y en a un)\n",
    "    \n",
    "    \n",
    "3. puis sur chaque individu de la population selectionnée/croisée, une mutation (changement des attributs de l'individus , selon la fonction toolbox.mutate établie) a mutpb de chance de se produire \n",
    "---\n",
    "\n",
    "    deap.algorithms.eaMuPlusLambda(population, toolbox, mu, lambda_, cxpb, mutpb, ngen[, stats, halloffame, verbose])\n",
    "    \n",
    "paramètres :\n",
    "    \n",
    "* les paramètres ayant le même nom que dans la fonction précédente ont la même description (exemple : population, commme la précédente fonction, est une liste d'individus)\n",
    "* mu : le nombre d'individus à sélectionner à la fin de chaque génération\n",
    "* lambda_ : le nombre d'individus à créer à chaque génération\n",
    "\n",
    "Renvoie un tuple contenant 2 éléments : \n",
    "* la population finale sélectionné par l'algorithme  \n",
    "* une instance de la classe `deap.tools.Logbook` avec les statistiques de l'évolution\n",
    "\n",
    "Cet algorithme génétique \"mu + lambda\" effectue ngen fois l'algorithme suivant :\n",
    "\n",
    "1. création de _lambda individus obtenus individuellement soit : \n",
    "    * avec une probabilité de cxpb par crossing-over (2 individus choisis aléatoirement dans la population et croisés,                un seul enfant est retenu comme individu à créer)\n",
    "    \n",
    "    * avec une probabilité de mutpb par mutation (1 individu choisi aléatoirement est muté puis retourné)\n",
    "    \n",
    "    * avec une probabilité 1-(cxpb+mutpb) par sélection simple (1 individu choisi aléatoirement puis retourné)\n",
    "    \n",
    "2. notre population devient une sélection de mu individus dans la concaténation de notre ancienne population et des _lambda        individus crées à l'étape précédente\n",
    "\n",
    "---\n",
    "\n",
    "    deap.algorithms.eaMuCommaLambda(population, toolbox, mu, lambda_, cxpb, mutpb, ngen[, stats, halloffame, verbose])\n",
    "    \n",
    "paramètres :\n",
    "    \n",
    "* les paramètres ayant le même nom que dans la fonction précédente ont la même description (exemple : population, commme la précédente fonction, est une liste d'individus)\n",
    "\n",
    "Renvoie un tuple contenant 2 éléments : \n",
    "* la population finale sélectionné par l'algorithme  \n",
    "* une instance de la classe `deap.tools.Logbook` avec les statistiques de l'évolution\n",
    "\n",
    "Cet algorithme génétique \"(mu,lambda)\" effectue ngen fois l'algorithme suivant :\n",
    "\n",
    "1. création de _lambda individus obtenus individuellement soit : \n",
    "    * avec une probabilité de cxpb par crossing-over (2 individus choisis aléatoirement dans la population et croisés,                un seul enfant est retenu comme individu à créer)\n",
    "    \n",
    "    * avec une probabilité de mutpb par mutation (1 individu choisi aléatoirement est muté puis retourné)\n",
    "    \n",
    "    * avec une probabilité 1-(cxpb+mutpb) par sélection simple (1 individu choisi aléatoirement puis retourné)\n",
    "    \n",
    "2. notre population devient une sélection de mu individus parmis les _lambda individus crées à l'étape précédente\n",
    "\n",
    "---\n",
    "\n",
    "\n",
    "\n",
    "---\n",
    "\n",
    "Il nous faut donc expliciter le fonctionnement des deux classes utilisées : `deap.tools.Statistics` et `deap.tools.HallOfFame`\n",
    "\n",
    "---\n",
    "\n",
    "    deap.tools.Statistics(key)\n",
    "    \n",
    "paramètre :  \n",
    "\n",
    "* key : Une fonction pour accéder aux valeurs sur lesquelles calculer les statistiques, facultative\n",
    "\n",
    "Cette classe possède elle aussi une méthode `register(name, function, *args, **kargs)`. Elle servira donc à prélever des statistiques sur les individus lors d'un algorithme génétique\n",
    "\n",
    "---\n",
    "\n",
    "    deap.tools.HallOfFame(maxsize, similar=<built-in function eq>)\n",
    "    \n",
    "paramètres :\n",
    "\n",
    "* maxsize : le nombre maximum d'individu à conserver\n",
    "* similar : la méthode pour savoir si deux individus sont égaux\n",
    "\n",
    "Cette classe servira donc à contenir des individus, individus destinés à être les meilleurs des populations. On pourra mettre à jour le contenu via des populations (si des individus de la population sont meilleurs que certains contenu dans un HallOfFame, alors ils les remplaceront dans ce HallOfFame).\n",
    "\n",
    "méthodes :\n",
    "\n",
    "* .update(population) : Change le contenu du HallOfFame selon une population\n",
    "* .insert(item) : Insère l'élément item dans ce HallOfFame\n",
    "* .remove(index) : Enlève l'élément d'index index du HallOfFame\n",
    "* .clear() : Vide le HallOfFame\n",
    "\n",
    "---\n",
    "\n",
    "    "
   ]
  },
  {
   "cell_type": "markdown",
   "metadata": {},
   "source": [
    "---"
   ]
  },
  {
   "cell_type": "markdown",
   "metadata": {},
   "source": [
    "## Pratique"
   ]
  },
  {
   "cell_type": "code",
   "execution_count": null,
   "metadata": {},
   "outputs": [],
   "source": [
    "import random\n",
    "import numpy as np\n",
    "from deap import creator, tools, base, algorithms"
   ]
  },
  {
   "cell_type": "markdown",
   "metadata": {},
   "source": [
    "### Les questions PM"
   ]
  },
  {
   "cell_type": "code",
   "execution_count": null,
   "metadata": {},
   "outputs": [],
   "source": [
    "creator.create(\"FitnessMin\", base.Fitness, weights=(-1.0,))\n",
    "#Q1 : quoi d'autre que base.Fitness; est-ce qu'on peut remplacer par une lambda qui fait min ?\n",
    "creator.create(\"Individual\", list, fitness=creator.FitnessMin)\n",
    "#Q2 : pourquoi il faut Fitness quand on cree un Individu ?"
   ]
  },
  {
   "cell_type": "markdown",
   "metadata": {},
   "source": [
    "---\n",
    "\n",
    "**Q1 : Quoi d'autre que base.Fitness; est-ce qu'on peut remplacer par une lambda qui fait min ?**\n",
    "\n",
    "On ne peut remplacer par un min ou autre. deap.base.Fitness est une classe abstraite dont les instances auront des attributs value et valid. La Fitness sera conservé dans l'individu et sera utilisé pour des comparaisons (les sélections). En effet, taper `ind.fitness.value` permettra d'accéder à la valeur de fitness d'un individu. `ind.fitness.valid` (cet attribut n'est pas publiquement accessible) permettra de savoir si il faut réévaluer l'individu.\n",
    "\n",
    "Essayer d'utiliser autre chose reviendrait donc à devoir recréer une classe avec les mêmes attributs/méthodes, ce qui ne serait pas intéressant.\n",
    "\n",
    "---\n",
    "\n",
    "**Q2 : Pourquoi il faut Fitness quand on cree un Individu ?**\n",
    "\n",
    "Il faut donc un fitness lors de la création de l'individu car cela a un lien avec les méthodes de sélection du module deap.tools.\n",
    "\n",
    "On utilisera par exemple deap.tools.selTournament(individuals, k, tournsize, fit_attr='fitness').\n",
    "\n",
    "Dans ce cas là, la sélection se fera selon l'attribut fitness de l'individu.\n",
    "\n",
    "Aussi, après mutation et crossingover, il faudra réévaluer les fitness des individus ayant changé ou ayant été créé. Certains individus, ayant leur valeur de `fitness.valid` à `False`, verront leur valeur de `fitness.value` être réévalué. Après quoi leur valeur de `fitness.valid` passera à `True`. L'intérêt que les individus aient leur fitness en attribut permettra de ne pas avoir à réévaluer tout les individus à chaque génération de l'algorithme génétique. (surtout si la probabilité de crossingover/mutation est faible, et que l'opération d'évaluation est coûteuse)\n",
    "\n",
    "---"
   ]
  },
  {
   "cell_type": "code",
   "execution_count": null,
   "metadata": {},
   "outputs": [],
   "source": [
    "toolbox=base.Toolbox()\n",
    "# permet d'enregistrer une fonction de génération d'un attribut\n",
    "toolbox.register(\"att\",random.randint,0,100)\n",
    "\n",
    "# on definit une fonction de generatiion d'un individu\n",
    "#Q3 A quoi sert le creator.Individual ici ?\n",
    "toolbox.register(\"individual\", tools.initRepeat, creator.Individual, toolbox.att, 5)"
   ]
  },
  {
   "cell_type": "markdown",
   "metadata": {},
   "source": [
    "---\n",
    "\n",
    "**Q3 : A quoi sert le creator.Individual ici ?**\n",
    "\n",
    "Ici, nous avons un exemple d'utilisation combiné de tous les modules vu précédemment.\n",
    "\n",
    "Tout d'abord, nous avons créé une méthode `individual` à notre `toolbox` qui consistera à utiliser la fonction `tools.initRepeat(creator.individual,toolbox.att,5)`.\n",
    "\n",
    "tools.initRepeat prend 3 paramètres :\n",
    "\n",
    "* un type de structure de donné : ici il s'agit de creator.Individual, qui hérite de la classe python list\n",
    "* une fonction retournant un élément : ici il s'agit de la fonction toolbox.att qui retourne un nombre entre 0 et 100\n",
    "* le nombre d'éléments à mettre dans la structure de donnée : ici on appelera 5 fois la fonction toolbox.att pour remplir le creator\n",
    "\n",
    "La fonction `toolbox.individual()` retournera donc un Individu contenant 5 nombres tirés aléatoirement entre 0 et 100.\n",
    "\n",
    "---"
   ]
  },
  {
   "cell_type": "code",
   "execution_count": null,
   "metadata": {},
   "outputs": [],
   "source": [
    "# on définit une fonction de generation de population\n",
    "toolbox.register(\"population\", tools.initRepeat, list, toolbox.individual)\n",
    "\n",
    "# Fonction d'evaluation\n",
    "def sum_error(individual):\n",
    "    return (abs(100-sum(individual)),)\n",
    "\n",
    "#Q4 : Pourquoi faut-il un tuple ?\n",
    "\n",
    "toolbox.register(\"evaluate\",sum_error)\n",
    "\n",
    "pop = toolbox.population(n=10)\n",
    "\n",
    "#Q5: comment on affiche notre pop avec la valeur de fitness pour chaque individu ?"
   ]
  },
  {
   "cell_type": "markdown",
   "metadata": {},
   "source": [
    "---\n",
    "\n",
    "**Q4 : Pourquoi faut-il un tuple ?**\n",
    "\n",
    "Il faut un tuple en sortie de la fonction qu'on associe à `toolbox.evaluate` car on peut avoir des Fitness à plusieurs objectifs. Ici le fitness n'a qu'un objectif de minimisation, alors la fonction d'évaluation a besoin de renvoyer un tuple de taille 1. Mais il est possible d'avoir plusieurs objectifs, et donc en conséquence, la fonction d'évaluation renverra un tuple de taille égale au nombre d'objectif.\n",
    "\n",
    "---\n",
    "\n",
    "**Q5 : Comment on affiche notre pop avec la valeur de fitness pour chaque individu ?**\n",
    "\n",
    "Voici une réponse possible :"
   ]
  },
  {
   "cell_type": "code",
   "execution_count": null,
   "metadata": {},
   "outputs": [],
   "source": [
    "pop = toolbox.population(n=10)\n",
    "\n",
    "for ind in pop:\n",
    "    ind.fitness.value = toolbox.evaluate(ind)\n",
    "\n",
    "for ind in pop:\n",
    "    line = str(ind) + \"\\t FitnessScore = \"+str(ind.fitness.value)\n",
    "    print(line)"
   ]
  },
  {
   "cell_type": "markdown",
   "metadata": {},
   "source": [
    "---"
   ]
  },
  {
   "cell_type": "code",
   "execution_count": null,
   "metadata": {},
   "outputs": [],
   "source": [
    "creator.create(\"FitnessMin\", base.Fitness, weights=(-1.0,))\n",
    "creator.create(\"Individual\", list, fitness=creator.FitnessMin)\n",
    "toolbox=base.Toolbox()\n",
    "toolbox.register(\"att\",random.randint,0,100)\n",
    "toolbox.register(\"individual\", tools.initRepeat, creator.Individual, toolbox.att, 5)\n",
    "toolbox.register(\"population\", tools.initRepeat, list, toolbox.individual)\n",
    "\n",
    "# Fonction d'evaluation\n",
    "def sum_error(individual):\n",
    "    return (abs(100-sum(individual)),)\n",
    "\n",
    "toolbox.register(\"evaluate\",sum_error)\n",
    "toolbox.register(\"mate\",tools.cxTwoPoint)\n",
    "toolbox.register(\"mutate\",tools.mutUniformInt,low=0,up=100,indpb=0.2)\n",
    "toolbox.register(\"select\",tools.selTournament, tournsize=3)\n",
    "\n",
    "hof = tools.HallOfFame(1)\n",
    "\n",
    "stats = tools.Statistics(lambda ind : ind.fitness.values)\n",
    "stats.register(\"avg\",np.mean)\n",
    "stats.register(\"std\",np.std)\n",
    "stats.register(\"min\",np.min)\n",
    "stats.register(\"max\",np.max)\n",
    "\n",
    "pop = toolbox.population(n=100)\n",
    "\n",
    "pop, log = algorithms.eaSimple(pop,toolbox,cxpb=0.5, mutpb=0.2 , ngen=40 , stats=stats, halloffame=hof, verbose=False)\n",
    "#Q6 : sémantique des paramètres ...diff entre le mutpb et le indpb ??\n",
    "\n",
    "print([sum(ind) for ind in pop])\n",
    "print(log)"
   ]
  },
  {
   "cell_type": "markdown",
   "metadata": {},
   "source": [
    "---\n",
    "\n",
    "**Q6 : sémantique des paramètres ...diff entre le mutpb et le indpb ??**\n",
    "\n",
    "On fait face à deux paramètres :\n",
    "\n",
    "* mutpb : paramètre de la fonction algorithms.eaSimple\n",
    "* indpb : paramètre de la fonction tools.mutUniformInt\n",
    "\n",
    "Le paramètre mutpb correspond à la probabilité qu'un individu d'une population a de subir une mutation.\n",
    "\n",
    "Le paramètre indpb correspond à la probabilité qu'un attribut d'un individu a de subir une mutation. (ici il s'agira de changer la valeur d'un élément que contient l'individu (qui est une liste))\n",
    "\n",
    "---"
   ]
  },
  {
   "cell_type": "markdown",
   "metadata": {},
   "source": [
    "---\n",
    "\n",
    "**Q_annexe : Au bout du compte, quelle est la meilleure solution ? celle que l'on a dans HallOffame ?**\n",
    "\n",
    "En effet, l'utilisation de HallOfFame sert justement à conserver les meilleurs individus.\n",
    "\n",
    "---"
   ]
  },
  {
   "cell_type": "markdown",
   "metadata": {},
   "source": [
    "### Maîtrise base boite à outils"
   ]
  },
  {
   "cell_type": "code",
   "execution_count": null,
   "metadata": {},
   "outputs": [],
   "source": [
    "import random\n",
    "import numpy as np\n",
    "from deap import creator, tools, base, algorithms"
   ]
  },
  {
   "cell_type": "markdown",
   "metadata": {},
   "source": [
    "#### 1 : Generer et afficher une population"
   ]
  },
  {
   "cell_type": "code",
   "execution_count": null,
   "metadata": {},
   "outputs": [],
   "source": [
    "creator.create(\"FitnessMax\", base.Fitness, weights=(1.0,))\n",
    "creator.create(\"Individual\", list, fitness=creator.FitnessMax)\n",
    "\n",
    "def sum_error(individual):\n",
    "    return (sum(individual),)\n",
    "\n",
    "toolbox=base.Toolbox()\n",
    "toolbox.register(\"evaluate\",sum_error)\n",
    "\n",
    "def afficher(pop,withFit=False):\n",
    "    fit = \"\"\n",
    "    for ind in pop:\n",
    "        if withFit:\n",
    "            fit = \"  Fitness Value : \"+str(ind.fitness.value)\n",
    "        else:\n",
    "            fit = \"\"\n",
    "        line = str(ind) + fit\n",
    "        print(line)"
   ]
  },
  {
   "cell_type": "markdown",
   "metadata": {},
   "source": [
    "**Données Binaire :**"
   ]
  },
  {
   "cell_type": "code",
   "execution_count": null,
   "metadata": {},
   "outputs": [],
   "source": [
    "toolbox.register(\"att\",random.randint,0,1)\n",
    "toolbox.register(\"individual\", tools.initRepeat, creator.Individual, toolbox.att, 5)\n",
    "toolbox.register(\"population\", tools.initRepeat, list, toolbox.individual)\n",
    "\n",
    "popBi = toolbox.population(n=10)\n",
    "afficher(popBi)"
   ]
  },
  {
   "cell_type": "markdown",
   "metadata": {},
   "source": [
    "**Données Décimales :**"
   ]
  },
  {
   "cell_type": "code",
   "execution_count": null,
   "metadata": {},
   "outputs": [],
   "source": [
    "creator.create(\"FitnessMax\", base.Fitness, weights=(1.0,))\n",
    "creator.create(\"Individual\", list, fitness=creator.FitnessMax)\n",
    "toolbox.register(\"att\",random.randint,0,10)\n",
    "toolbox.register(\"individual\", tools.initRepeat, creator.Individual, toolbox.att, 5)\n",
    "toolbox.register(\"population\", tools.initRepeat, list, toolbox.individual)\n",
    "\n",
    "popD = toolbox.population(n=10)\n",
    "afficher(popD)"
   ]
  },
  {
   "cell_type": "markdown",
   "metadata": {},
   "source": [
    "**Données Booléennes :**"
   ]
  },
  {
   "cell_type": "code",
   "execution_count": null,
   "metadata": {},
   "outputs": [],
   "source": [
    "def unBool():\n",
    "    return [True,False][random.randint(0,1)]\n",
    "\n",
    "toolbox.register(\"individual\", tools.initRepeat, creator.Individual, unBool, 5)\n",
    "toolbox.register(\"population\", tools.initRepeat, list, toolbox.individual)\n",
    "\n",
    "popBo = toolbox.population(n=10)\n",
    "afficher(popBo)"
   ]
  },
  {
   "cell_type": "code",
   "execution_count": null,
   "metadata": {},
   "outputs": [],
   "source": [
    "def evaluateBi(ind):\n",
    "    return (ind.count(1),)\n",
    "\n",
    "def evaluateD(ind):\n",
    "    return (sum(ind),)\n",
    "\n",
    "def evaluateBo(ind):\n",
    "    return (ind.count(True),)\n",
    "\n",
    "def compute(pop,toolbox):\n",
    "    for ind in pop:\n",
    "        ind.fitness.value = toolbox.evaluate(ind)\n",
    "        \n",
    "hof = tools.HallOfFame(1)\n",
    "\n",
    "stats = tools.Statistics(lambda ind : ind.fitness.values)\n",
    "stats.register(\"avg\",np.mean)\n",
    "stats.register(\"std\",np.std)\n",
    "stats.register(\"min\",np.min)\n",
    "stats.register(\"max\",np.max)"
   ]
  },
  {
   "cell_type": "markdown",
   "metadata": {},
   "source": [
    "####  2 : Faire n étapes et afficher le meilleur"
   ]
  },
  {
   "cell_type": "code",
   "execution_count": null,
   "metadata": {},
   "outputs": [],
   "source": [
    "def run(N,evaluate,pop):\n",
    "    toolbox.register(\"evaluate\",evaluate)\n",
    "    toolbox.register(\"mutate\",tools.mutUniformInt,low=0,up=100,indpb=0.2)\n",
    "    toolbox.register(\"mate\",tools.cxOnePoint)\n",
    "    toolbox.register(\"select\",tools.selTournament,tournsize=3)\n",
    "    return algorithms.eaSimple(pop,toolbox,cxpb=0.5, mutpb=0.2 , ngen=N , stats=stats, halloffame=hof, verbose=False)\n",
    "    \n",
    "afficher(run(100,evaluateD,popD)[0])\n",
    "print()\n",
    "afficher(run(100,evaluateBi,popBi)[0])\n",
    "print()\n",
    "afficher(run(100,evaluateBo,popBo)[0])"
   ]
  },
  {
   "cell_type": "markdown",
   "metadata": {},
   "source": [
    "### Optimisation Polynome"
   ]
  },
  {
   "cell_type": "code",
   "execution_count": null,
   "metadata": {},
   "outputs": [],
   "source": [
    "def evaluate_polynom(f,ind):\n",
    "    fitness = 0\n",
    "    for x in range(11):\n",
    "        expect = f(x)\n",
    "        res = 0\n",
    "        for i in range(len(ind)):\n",
    "            res += ind[i] * x**i\n",
    "        fitness += abs(expect - res)\n",
    "    return (fitness,)\n",
    "\n",
    "    \n",
    "def algo_gen_polynom(nbind_pop,nb_gen,polynom_funct,nb_cst,max_val_cst):\n",
    "    creator.create(\"FitnessMin\", base.Fitness, weights=(-1.0,))\n",
    "    creator.create(\"Individual\", list, fitness=creator.FitnessMin)\n",
    "    \n",
    "    toolbox=base.Toolbox()\n",
    "    toolbox.register(\"att\",random.randint,0,max_val_cst)\n",
    "    toolbox.register(\"individual\", tools.initRepeat, creator.Individual, toolbox.att, nb_cst)\n",
    "    toolbox.register(\"population\", tools.initRepeat, list, toolbox.individual)\n",
    "    toolbox.register(\"evaluate\",evaluate_polynom,polynom_funct)\n",
    "    toolbox.register(\"mutate\",tools.mutUniformInt,low=0,up=max_val_cst,indpb=0.2)\n",
    "    toolbox.register(\"mate\",tools.cxOnePoint)\n",
    "    toolbox.register(\"select\",tools.selTournament,tournsize=3)\n",
    "    \n",
    "    hof = tools.HallOfFame(1)\n",
    "\n",
    "    stats = tools.Statistics(lambda ind : ind.fitness.values)\n",
    "    stats.register(\"avg\",np.mean)\n",
    "    stats.register(\"std\",np.std)\n",
    "    stats.register(\"min\",np.min)\n",
    "    stats.register(\"max\",np.max)\n",
    "    \n",
    "    pop = toolbox.population(n=nbind_pop)\n",
    "    \n",
    "    pop, log = algorithms.eaSimple(pop,toolbox,cxpb=0.5, mutpb=0.2 , ngen=nb_gen , stats=stats, halloffame=hof, verbose=False)\n",
    "    \n",
    "    return {\"pop\":pop,\"log\":log,\"hof\":hof,\"stats\": stats}"
   ]
  },
  {
   "cell_type": "code",
   "execution_count": null,
   "metadata": {},
   "outputs": [],
   "source": [
    "def polynom(x):\n",
    "    return 8+2*x+5*x**2+3*x**3\n",
    "\n",
    "nbind_pop = 100\n",
    "nb_gen = 100\n",
    "funct = polynom\n",
    "nb_cst = 4\n",
    "max_val_cst = 10\n",
    "algo = algo_gen_polynom(nbind_pop,nb_gen,funct,nb_cst,max_val_cst) \n",
    "\n",
    "print(algo[\"hof\"])"
   ]
  },
  {
   "cell_type": "markdown",
   "metadata": {},
   "source": [
    "### Voyageur de Commerce"
   ]
  },
  {
   "cell_type": "code",
   "execution_count": null,
   "metadata": {},
   "outputs": [],
   "source": [
    "def evaluate_dis(distances,individual):\n",
    "    summation = 0\n",
    "    individual = [i%len(individual) for i in individual]\n",
    "    start = individual[0]\n",
    "    for i in range(1, len(individual)):\n",
    "        end = individual[i]\n",
    "        summation += distances[start][end]\n",
    "        start = end\n",
    "    return (summation,)\n",
    "\n",
    "def algo_gen_trip(nbind_pop,nb_gen,individual_size,distances):\n",
    "    creator.create(\"FitnessMin\", base.Fitness, weights=(-1.0,))\n",
    "    creator.create(\"Individual\", list, fitness=creator.FitnessMin)\n",
    "    \n",
    "    toolbox=base.Toolbox()\n",
    "    toolbox.register(\"indices\", random.sample, range(individual_size), individual_size)\n",
    "    toolbox.register(\"individual\", tools.initIterate, creator.Individual, toolbox.indices)\n",
    "    toolbox.register(\"population\", tools.initRepeat, list, toolbox.individual)\n",
    "    toolbox.register(\"evaluate\",evaluate_dis,distances)\n",
    "    toolbox.register(\"mutate\",tools.mutShuffleIndexes,indpb=0.2)\n",
    "    toolbox.register(\"mate\",tools.cxOrdered)\n",
    "    toolbox.register(\"select\",tools.selTournament,tournsize=3)\n",
    "    \n",
    "    hof = tools.HallOfFame(1)\n",
    "\n",
    "    stats = tools.Statistics(lambda ind : ind.fitness.values)\n",
    "    stats.register(\"avg\",np.mean)\n",
    "    stats.register(\"std\",np.std)\n",
    "    stats.register(\"min\",np.min)\n",
    "    stats.register(\"max\",np.max)\n",
    "    \n",
    "    pop = toolbox.population(n=nbind_pop)\n",
    "    \n",
    "    pop, log = algorithms.eaMuPlusLambda(pop,toolbox,mu=len(pop),lambda_=len(pop)//2,cxpb=0.5, mutpb=0.2 , ngen=nb_gen , stats=stats, halloffame=hof, verbose=False)\n",
    "    \n",
    "    for ind in pop:\n",
    "        ind.fitness.value = toolbox.evaluate(ind)\n",
    "    \n",
    "    hof[0].fitness.value = toolbox.evaluate(hof[0])\n",
    "    \n",
    "    return {\"pop\":pop,\"log\":log,\"hof\":hof,\"stats\": stats}"
   ]
  },
  {
   "cell_type": "code",
   "execution_count": null,
   "metadata": {
    "scrolled": true
   },
   "outputs": [],
   "source": [
    "INDIVIDUAL_SIZE = NUMBER_OF_CITIES = 10\n",
    "DISTANCES = np.zeros((NUMBER_OF_CITIES, NUMBER_OF_CITIES))\n",
    "for city in range(NUMBER_OF_CITIES):\n",
    "    cities = [ i for i in range(NUMBER_OF_CITIES) if not i == city ]\n",
    "    for to_city in cities:\n",
    "        DISTANCES[to_city][city] = \\\n",
    "            DISTANCES[city][to_city] = random.randint(50, 2000)\n",
    "        \n",
    "        \n",
    "random.seed(10)\n",
    "madj = np.zeros((10,10))   # 10 villes\n",
    "for depart in range(10) :\n",
    "    for arrivee in range(depart) :\n",
    "        madj[depart][arrivee] = madj[arrivee][depart] = random.randint(10,200)\n",
    "       \n",
    "print(madj)\n",
    "        \n",
    "nbind_pop = 100\n",
    "nb_gen = 2000\n",
    "individual_size = INDIVIDUAL_SIZE\n",
    "distances = madj\n",
    "algo = algo_gen_trip(nbind_pop,nb_gen,individual_size,distances)\n",
    "\n",
    "print()\n",
    "print(algo[\"hof\"])\n",
    "print()\n",
    "print(algo[\"hof\"][0].fitness.value)"
   ]
  }
 ],
 "metadata": {
  "celltoolbar": "Format de la Cellule Texte Brut",
  "kernelspec": {
   "display_name": "Python 3",
   "language": "python",
   "name": "python3"
  },
  "language_info": {
   "codemirror_mode": {
    "name": "ipython",
    "version": 3
   },
   "file_extension": ".py",
   "mimetype": "text/x-python",
   "name": "python",
   "nbconvert_exporter": "python",
   "pygments_lexer": "ipython3",
   "version": "3.8.3"
  }
 },
 "nbformat": 4,
 "nbformat_minor": 4
}
